{
 "cells": [
  {
   "cell_type": "markdown",
   "id": "e201c453-8ab0-4210-836e-6a26a4457e52",
   "metadata": {},
   "source": [
    "# An Exploratory Data Analysis on Val's Habits"
   ]
  },
  {
   "cell_type": "markdown",
   "id": "f0b055f2-5616-4c73-9e62-bc526da34bce",
   "metadata": {
    "jp-MarkdownHeadingCollapsed": true
   },
   "source": [
    "## 👋 Introduction\n",
    "James Clear, writer of the critically-acclaimed Atomic Habits, declares that habits are the compound interest of self-improvement. During the second semester of my sophomore year (January 2024 - May 2024), I was able to set-up systems that manually and automatically recorded my habits. Understanding my habits can allow me to better fine-tune my systems to improve the skills and relationships I value. Right now, I have a lot of data but I haven't utilized any of it yet. Thus, this exploratory data analysis (EDA) comes into light.\n",
    "## 💡Project Description\n",
    "This EDA focuses on Val's habits during his second semester of sophomore year. The goal is to extract data-driven insights that will be useful for his first semester of junior year. What observations can be made and how can this help? Specifically, the following data are used:\n",
    "- `habits`: Sourced from a Google Form Val made that records daily habits such as number of toothbrushes in a day, minutes meditated, and overall mood.\n",
    "- `exercise`: Sourced from Val's Strava account using the app's API. Strava is an app that lets users record their exercise data.\n",
    "- `steps`: Sourced from Val's Samsung Galaxy Watch 6 through the Samsung Health app.\n",
    "- `sleep`:  Sourced from Val's Samsung Galaxy Watch 6 through the Samsung Health app.\n",
    "- `events`: A table containing significant academic or extracurricular events Val participated in."
   ]
  },
  {
   "cell_type": "markdown",
   "id": "08fe679a-9cea-4c64-8de8-fd337bfebbcc",
   "metadata": {},
   "source": [
    "## 📚 Step 0: Imports and Reading Data"
   ]
  },
  {
   "cell_type": "code",
   "execution_count": 1,
   "id": "f1435224-4e76-4a98-bb0a-4805667ba3ec",
   "metadata": {},
   "outputs": [],
   "source": [
    "# Packages\n",
    "import pandas as pd\n",
    "import numpy as np\n",
    "import matplotlib.pyplot as plt\n",
    "import seaborn as sns\n",
    "import plotly"
   ]
  },
  {
   "cell_type": "code",
   "execution_count": 2,
   "id": "19fff3c1-d3b5-41c8-ae1c-ea136be7d395",
   "metadata": {},
   "outputs": [],
   "source": [
    "# Styling and preferences\n",
    "plt.style.use('ggplot')"
   ]
  },
  {
   "cell_type": "code",
   "execution_count": 3,
   "id": "b2021595-98bf-4101-b2f0-2be844531252",
   "metadata": {},
   "outputs": [],
   "source": [
    "# For manually created CSV data\n",
    "habits = pd.read_csv('data/habits-edited.csv')\n",
    "events = pd.read_csv('data/events.csv')"
   ]
  },
  {
   "cell_type": "code",
   "execution_count": 70,
   "id": "b19f4b21-302e-481f-851d-a82d1ccd3d43",
   "metadata": {},
   "outputs": [],
   "source": [
    "# For automated CSV data\n",
    "steps = pd.read_csv('data/steps-converted.csv')\n",
    "sleep = pd.read_csv('data/sleep-converted.csv')\n",
    "exercise = pd.read_csv('data/exercise.csv')\n",
    "devices = pd.read_csv('data/devices.csv')"
   ]
  },
  {
   "cell_type": "markdown",
   "id": "dc1a0db6-cc15-4fe0-b658-d0ea12e7f54b",
   "metadata": {
    "jp-MarkdownHeadingCollapsed": true
   },
   "source": [
    "- I edited the habits CSV file because there were date inconsistencies (thus the filename `habits-edited.csv`). I did not put a date field on the habit form when I made it so I only relied on the timestamp. But there were some days I answered the form more than once to \"catch up\" on days I was not able to answer. There were also a few days that were blank. I manually went through all dates to fix the timestamp. Luckily there were only around 126 rows. This is already a helpful insight for next semester's habit form: Add a date field.\n",
    "- Downloading my health data was done through the Samsung Health app. The data provided consists of JSON files and a lot of CSV files. I decided to use the `com.samsung.shealth.tracker.pedometer_step_count.[date of download].csv` for steps and `com.samsung.shealth.sleep.[date of download].csv` for sleep. I also need the `com.samsung.health.device_profile.[date of download].csv` to determine the device ID of my smartwatch. This will be explained more later.\n",
    "- Also, using `pd.read_csv` on these files produced a `ParserError` so I first imported them to Google Sheets and removed the first row. After downloading them again as CSV files, they're now converted to Pandas dataframes.\n",
    "- Downloading my Strava exercise data was done through https://entorb.net/strava/. The app allowed me to skip the trouble of having to access Strava's API myself.\n",
    "- Note to self: Possibly include screen time/usage data from mobile phone and tablet (when I gain the energy to do so). Current methods prove to be difficult."
   ]
  },
  {
   "cell_type": "markdown",
   "id": "aa56a05b-6b4c-4226-a7fe-458a5ea582fa",
   "metadata": {},
   "source": [
    "## 🤔 Step 1: Data Understanding"
   ]
  },
  {
   "cell_type": "code",
   "execution_count": 6,
   "id": "f5ff868e-d4ee-47e8-9da8-d011304d46ef",
   "metadata": {},
   "outputs": [
    {
     "data": {
      "text/plain": [
       "Timestamp                                                                                   1/15\n",
       "Toothbrush                                                                                   2.0\n",
       "Skincare                                                                                Complete\n",
       "Daily mental well-being                                                                      3.0\n",
       "Read                                                                                         Yes\n",
       "Touch typing                                                                                  No\n",
       "Exercise                                                                             Daily steps\n",
       "Minutes meditated                                                                            5.0\n",
       "What were you grateful for today?                                                         malena\n",
       "Any notable wins today?                                                                      NaN\n",
       "Any message for future Val?                                                                  NaN\n",
       "Poop                                                                                         Yes\n",
       "Type                                                                                       Daily\n",
       "What went well this week?                                                                    NaN\n",
       "Which goals did I NOT achieve? Which intentions did I NOT keep?                              NaN\n",
       "What is my Most Important Task for this Week? How will I Make Sure I Get it Done?            NaN\n",
       " How can I Make Things Faster, Easier or Obsolete?                                           NaN\n",
       "If I were to 10x my goals, what would I do to achieve them?                                  NaN\n",
       "What am I NOT doing even though I know I should?                                             NaN\n",
       "Math practice outside class in hours                                                         NaN\n",
       "What was a win for you today? (It's perfectly fine to have none! 😊)                          NaN\n",
       "Infinite scrolled? (more than 30 minutes of scrolling)                                       NaN\n",
       "Name: 0, dtype: object"
      ]
     },
     "execution_count": 6,
     "metadata": {},
     "output_type": "execute_result"
    }
   ],
   "source": [
    "habits.iloc[0]"
   ]
  },
  {
   "cell_type": "markdown",
   "id": "15caca29-3e47-4870-8a24-efd60cf1d1b5",
   "metadata": {},
   "source": [
    "The bottom half of the columns are weekly open-ended questions I ended up not following because I found the questions long and tiresome to do. So, I'll focus on columns I consistenly answered."
   ]
  },
  {
   "cell_type": "code",
   "execution_count": 7,
   "id": "1c3eda40-bac3-4e97-a606-7559f10aaada",
   "metadata": {},
   "outputs": [
    {
     "data": {
      "text/plain": [
       "0      1/15\n",
       "1      1/16\n",
       "2      1/17\n",
       "3      1/18\n",
       "4      1/19\n",
       "       ... \n",
       "122    5/16\n",
       "123    5/17\n",
       "124    5/18\n",
       "125    5/19\n",
       "126    5/20\n",
       "Name: Timestamp, Length: 127, dtype: object"
      ]
     },
     "execution_count": 7,
     "metadata": {},
     "output_type": "execute_result"
    }
   ],
   "source": [
    "habits['Timestamp']"
   ]
  },
  {
   "cell_type": "markdown",
   "id": "0ac26ca1-2bce-4d82-be67-e46fa42fee06",
   "metadata": {},
   "source": [
    "I'll need to convert the timestamp column into a proper datatype. But at least I already know that I'll be focusing on the data from January 15 to May 20, the official days of the semester."
   ]
  },
  {
   "cell_type": "code",
   "execution_count": 8,
   "id": "c6431bd9-6e4c-4c9a-be5e-3a1a66fc1e2b",
   "metadata": {},
   "outputs": [
    {
     "data": {
      "text/html": [
       "<div>\n",
       "<style scoped>\n",
       "    .dataframe tbody tr th:only-of-type {\n",
       "        vertical-align: middle;\n",
       "    }\n",
       "\n",
       "    .dataframe tbody tr th {\n",
       "        vertical-align: top;\n",
       "    }\n",
       "\n",
       "    .dataframe thead th {\n",
       "        text-align: right;\n",
       "    }\n",
       "</style>\n",
       "<table border=\"1\" class=\"dataframe\">\n",
       "  <thead>\n",
       "    <tr style=\"text-align: right;\">\n",
       "      <th></th>\n",
       "      <th>event</th>\n",
       "      <th>type</th>\n",
       "      <th>date_start</th>\n",
       "      <th>date_end</th>\n",
       "    </tr>\n",
       "  </thead>\n",
       "  <tbody>\n",
       "    <tr>\n",
       "      <th>0</th>\n",
       "      <td>Samsung Mission</td>\n",
       "      <td>extracurricular</td>\n",
       "      <td>January 12, 2024</td>\n",
       "      <td>NaN</td>\n",
       "    </tr>\n",
       "    <tr>\n",
       "      <th>1</th>\n",
       "      <td>Samsung Mission</td>\n",
       "      <td>extracurricular</td>\n",
       "      <td>1/15/24</td>\n",
       "      <td>NaN</td>\n",
       "    </tr>\n",
       "    <tr>\n",
       "      <th>2</th>\n",
       "      <td>Samsung Mission</td>\n",
       "      <td>extracurricular</td>\n",
       "      <td>1/18/24</td>\n",
       "      <td>NaN</td>\n",
       "    </tr>\n",
       "  </tbody>\n",
       "</table>\n",
       "</div>"
      ],
      "text/plain": [
       "             event             type        date_start date_end\n",
       "0  Samsung Mission  extracurricular  January 12, 2024      NaN\n",
       "1  Samsung Mission  extracurricular           1/15/24      NaN\n",
       "2  Samsung Mission  extracurricular           1/18/24      NaN"
      ]
     },
     "execution_count": 8,
     "metadata": {},
     "output_type": "execute_result"
    }
   ],
   "source": [
    "events.head(3)"
   ]
  },
  {
   "cell_type": "code",
   "execution_count": 8,
   "id": "857195b3-e0b1-4c5c-8d70-0da33b5f4b5f",
   "metadata": {},
   "outputs": [
    {
     "data": {
      "text/plain": [
       "array(['extracurricular', 'fun', 'hackathon', 'academic', 'long holiday',\n",
       "       'long test'], dtype=object)"
      ]
     },
     "execution_count": 8,
     "metadata": {},
     "output_type": "execute_result"
    }
   ],
   "source": [
    "events['type'].unique()"
   ]
  },
  {
   "cell_type": "markdown",
   "id": "a3ac057e-442f-40c0-a237-b8ac34a110bc",
   "metadata": {},
   "source": [
    "I'll need to convert the date columns into proper format as well. Moreover, I see that I have six main types of events."
   ]
  },
  {
   "cell_type": "code",
   "execution_count": 123,
   "id": "deada3d0-1c52-4a74-8aff-a268233e127d",
   "metadata": {},
   "outputs": [
    {
     "data": {
      "text/html": [
       "<div>\n",
       "<style scoped>\n",
       "    .dataframe tbody tr th:only-of-type {\n",
       "        vertical-align: middle;\n",
       "    }\n",
       "\n",
       "    .dataframe tbody tr th {\n",
       "        vertical-align: top;\n",
       "    }\n",
       "\n",
       "    .dataframe thead th {\n",
       "        text-align: right;\n",
       "    }\n",
       "</style>\n",
       "<table border=\"1\" class=\"dataframe\">\n",
       "  <thead>\n",
       "    <tr style=\"text-align: right;\">\n",
       "      <th></th>\n",
       "      <th>duration</th>\n",
       "      <th>version_code</th>\n",
       "      <th>run_step</th>\n",
       "      <th>walk_step</th>\n",
       "      <th>com.samsung.health.step_count.start_time</th>\n",
       "      <th>com.samsung.health.step_count.sample_position_type</th>\n",
       "      <th>com.samsung.health.step_count.custom</th>\n",
       "      <th>com.samsung.health.step_count.update_time</th>\n",
       "      <th>com.samsung.health.step_count.create_time</th>\n",
       "      <th>com.samsung.health.step_count.count</th>\n",
       "      <th>com.samsung.health.step_count.speed</th>\n",
       "      <th>com.samsung.health.step_count.distance</th>\n",
       "      <th>com.samsung.health.step_count.calorie</th>\n",
       "      <th>com.samsung.health.step_count.time_offset</th>\n",
       "      <th>com.samsung.health.step_count.deviceuuid</th>\n",
       "      <th>com.samsung.health.step_count.pkg_name</th>\n",
       "      <th>com.samsung.health.step_count.end_time</th>\n",
       "      <th>com.samsung.health.step_count.datauuid</th>\n",
       "    </tr>\n",
       "  </thead>\n",
       "  <tbody>\n",
       "    <tr>\n",
       "      <th>0</th>\n",
       "      <td>4704</td>\n",
       "      <td>4</td>\n",
       "      <td>0</td>\n",
       "      <td>10</td>\n",
       "      <td>2024-06-26 18:25:00</td>\n",
       "      <td>NaN</td>\n",
       "      <td>NaN</td>\n",
       "      <td>2024-06-26 18:32:08</td>\n",
       "      <td>2024-06-26 18:32:08</td>\n",
       "      <td>10</td>\n",
       "      <td>1.666667</td>\n",
       "      <td>7.840000</td>\n",
       "      <td>0.32</td>\n",
       "      <td>UTC+0800</td>\n",
       "      <td>0yH08JetXB</td>\n",
       "      <td>com.sec.android.app.shealth</td>\n",
       "      <td>2024-06-26 18:26:00</td>\n",
       "      <td>d2af0334-0836-4e8a-bd58-841f92cbf268</td>\n",
       "    </tr>\n",
       "    <tr>\n",
       "      <th>1</th>\n",
       "      <td>9333</td>\n",
       "      <td>4</td>\n",
       "      <td>0</td>\n",
       "      <td>15</td>\n",
       "      <td>2024-06-26 19:50:00</td>\n",
       "      <td>NaN</td>\n",
       "      <td>NaN</td>\n",
       "      <td>2024-06-26 19:55:00</td>\n",
       "      <td>2024-06-26 19:55:00</td>\n",
       "      <td>15</td>\n",
       "      <td>1.138889</td>\n",
       "      <td>10.630001</td>\n",
       "      <td>0.56</td>\n",
       "      <td>UTC+0800</td>\n",
       "      <td>0yH08JetXB</td>\n",
       "      <td>com.sec.android.app.shealth</td>\n",
       "      <td>2024-06-26 19:51:00</td>\n",
       "      <td>fe90e3db-4e31-4df1-bf47-64c4eaeddc9d</td>\n",
       "    </tr>\n",
       "    <tr>\n",
       "      <th>2</th>\n",
       "      <td>7604</td>\n",
       "      <td>4</td>\n",
       "      <td>0</td>\n",
       "      <td>19</td>\n",
       "      <td>2024-06-26 19:59:00</td>\n",
       "      <td>NaN</td>\n",
       "      <td>NaN</td>\n",
       "      <td>2024-06-26 20:01:18</td>\n",
       "      <td>2024-06-26 20:01:18</td>\n",
       "      <td>19</td>\n",
       "      <td>2.027778</td>\n",
       "      <td>15.419998</td>\n",
       "      <td>0.57</td>\n",
       "      <td>UTC+0800</td>\n",
       "      <td>0yH08JetXB</td>\n",
       "      <td>com.sec.android.app.shealth</td>\n",
       "      <td>2024-06-26 20:00:00</td>\n",
       "      <td>45406ca0-0b60-43cf-a232-4fdd65e023f0</td>\n",
       "    </tr>\n",
       "  </tbody>\n",
       "</table>\n",
       "</div>"
      ],
      "text/plain": [
       "   duration  version_code  run_step  walk_step  \\\n",
       "0      4704             4         0         10   \n",
       "1      9333             4         0         15   \n",
       "2      7604             4         0         19   \n",
       "\n",
       "  com.samsung.health.step_count.start_time  \\\n",
       "0                      2024-06-26 18:25:00   \n",
       "1                      2024-06-26 19:50:00   \n",
       "2                      2024-06-26 19:59:00   \n",
       "\n",
       "   com.samsung.health.step_count.sample_position_type  \\\n",
       "0                                                NaN    \n",
       "1                                                NaN    \n",
       "2                                                NaN    \n",
       "\n",
       "   com.samsung.health.step_count.custom  \\\n",
       "0                                   NaN   \n",
       "1                                   NaN   \n",
       "2                                   NaN   \n",
       "\n",
       "  com.samsung.health.step_count.update_time  \\\n",
       "0                       2024-06-26 18:32:08   \n",
       "1                       2024-06-26 19:55:00   \n",
       "2                       2024-06-26 20:01:18   \n",
       "\n",
       "  com.samsung.health.step_count.create_time  \\\n",
       "0                       2024-06-26 18:32:08   \n",
       "1                       2024-06-26 19:55:00   \n",
       "2                       2024-06-26 20:01:18   \n",
       "\n",
       "   com.samsung.health.step_count.count  com.samsung.health.step_count.speed  \\\n",
       "0                                   10                             1.666667   \n",
       "1                                   15                             1.138889   \n",
       "2                                   19                             2.027778   \n",
       "\n",
       "   com.samsung.health.step_count.distance  \\\n",
       "0                                7.840000   \n",
       "1                               10.630001   \n",
       "2                               15.419998   \n",
       "\n",
       "   com.samsung.health.step_count.calorie  \\\n",
       "0                                   0.32   \n",
       "1                                   0.56   \n",
       "2                                   0.57   \n",
       "\n",
       "  com.samsung.health.step_count.time_offset  \\\n",
       "0                                  UTC+0800   \n",
       "1                                  UTC+0800   \n",
       "2                                  UTC+0800   \n",
       "\n",
       "  com.samsung.health.step_count.deviceuuid  \\\n",
       "0                               0yH08JetXB   \n",
       "1                               0yH08JetXB   \n",
       "2                               0yH08JetXB   \n",
       "\n",
       "  com.samsung.health.step_count.pkg_name  \\\n",
       "0            com.sec.android.app.shealth   \n",
       "1            com.sec.android.app.shealth   \n",
       "2            com.sec.android.app.shealth   \n",
       "\n",
       "  com.samsung.health.step_count.end_time  \\\n",
       "0                    2024-06-26 18:26:00   \n",
       "1                    2024-06-26 19:51:00   \n",
       "2                    2024-06-26 20:00:00   \n",
       "\n",
       "  com.samsung.health.step_count.datauuid  \n",
       "0   d2af0334-0836-4e8a-bd58-841f92cbf268  \n",
       "1   fe90e3db-4e31-4df1-bf47-64c4eaeddc9d  \n",
       "2   45406ca0-0b60-43cf-a232-4fdd65e023f0  "
      ]
     },
     "execution_count": 123,
     "metadata": {},
     "output_type": "execute_result"
    }
   ],
   "source": [
    "steps.head(3)"
   ]
  },
  {
   "cell_type": "code",
   "execution_count": 124,
   "id": "8f096672-f831-400a-89a9-71f182d600ca",
   "metadata": {},
   "outputs": [
    {
     "data": {
      "text/plain": [
       "(9079, 18)"
      ]
     },
     "execution_count": 124,
     "metadata": {},
     "output_type": "execute_result"
    }
   ],
   "source": [
    "steps.shape"
   ]
  },
  {
   "cell_type": "code",
   "execution_count": 125,
   "id": "9b023963-5fb1-4874-9e5a-05b5e574d634",
   "metadata": {},
   "outputs": [
    {
     "data": {
      "text/plain": [
       "Index(['duration', 'version_code', 'run_step', 'walk_step',\n",
       "       'com.samsung.health.step_count.start_time',\n",
       "       'com.samsung.health.step_count.sample_position_type',\n",
       "       'com.samsung.health.step_count.custom',\n",
       "       'com.samsung.health.step_count.update_time',\n",
       "       'com.samsung.health.step_count.create_time',\n",
       "       'com.samsung.health.step_count.count',\n",
       "       'com.samsung.health.step_count.speed',\n",
       "       'com.samsung.health.step_count.distance',\n",
       "       'com.samsung.health.step_count.calorie',\n",
       "       'com.samsung.health.step_count.time_offset',\n",
       "       'com.samsung.health.step_count.deviceuuid',\n",
       "       'com.samsung.health.step_count.pkg_name',\n",
       "       'com.samsung.health.step_count.end_time',\n",
       "       'com.samsung.health.step_count.datauuid'],\n",
       "      dtype='object')"
      ]
     },
     "execution_count": 125,
     "metadata": {},
     "output_type": "execute_result"
    }
   ],
   "source": [
    "steps.columns"
   ]
  },
  {
   "cell_type": "code",
   "execution_count": 126,
   "id": "56d21037-cf67-4a22-bd1b-c816a11817ab",
   "metadata": {},
   "outputs": [
    {
     "data": {
      "text/plain": [
       "array(['0yH08JetXB', 'rQMD+kro3I'], dtype=object)"
      ]
     },
     "execution_count": 126,
     "metadata": {},
     "output_type": "execute_result"
    }
   ],
   "source": [
    "steps['com.samsung.health.step_count.deviceuuid'].unique()"
   ]
  },
  {
   "cell_type": "markdown",
   "id": "c0d647c2-ee48-4d9c-b891-9116ede70989",
   "metadata": {},
   "source": [
    "First, there are a lot of columns for this dataset so I'll have to create a subset from it. There are also too many rows. The `deviceuuid` column describes what device was used to record the data. This implies that there are recorded entries with the same date but differing device IDs. Since I'll be using my Galaxy Watch 6, the IDs to use are `iGosmEieUd` and `0yH08JetXB`. I found this through the `com.samsung.health.device_profile.[date of summary].csv`."
   ]
  },
  {
   "cell_type": "code",
   "execution_count": 10,
   "id": "f06f2a49-ab25-4ff1-9e4b-506874b5dc35",
   "metadata": {},
   "outputs": [
    {
     "data": {
      "text/html": [
       "<div>\n",
       "<style scoped>\n",
       "    .dataframe tbody tr th:only-of-type {\n",
       "        vertical-align: middle;\n",
       "    }\n",
       "\n",
       "    .dataframe tbody tr th {\n",
       "        vertical-align: top;\n",
       "    }\n",
       "\n",
       "    .dataframe thead th {\n",
       "        text-align: right;\n",
       "    }\n",
       "</style>\n",
       "<table border=\"1\" class=\"dataframe\">\n",
       "  <thead>\n",
       "    <tr style=\"text-align: right;\">\n",
       "      <th></th>\n",
       "      <th>original_efficiency</th>\n",
       "      <th>mental_recovery</th>\n",
       "      <th>factor_01</th>\n",
       "      <th>factor_02</th>\n",
       "      <th>factor_03</th>\n",
       "      <th>factor_04</th>\n",
       "      <th>factor_05</th>\n",
       "      <th>factor_06</th>\n",
       "      <th>factor_07</th>\n",
       "      <th>factor_08</th>\n",
       "      <th>...</th>\n",
       "      <th>com.samsung.health.sleep.custom</th>\n",
       "      <th>com.samsung.health.sleep.modify_sh_ver</th>\n",
       "      <th>com.samsung.health.sleep.update_time</th>\n",
       "      <th>com.samsung.health.sleep.create_time</th>\n",
       "      <th>com.samsung.health.sleep.time_offset</th>\n",
       "      <th>com.samsung.health.sleep.deviceuuid</th>\n",
       "      <th>com.samsung.health.sleep.comment</th>\n",
       "      <th>com.samsung.health.sleep.pkg_name</th>\n",
       "      <th>com.samsung.health.sleep.end_time</th>\n",
       "      <th>com.samsung.health.sleep.datauuid</th>\n",
       "    </tr>\n",
       "  </thead>\n",
       "  <tbody>\n",
       "    <tr>\n",
       "      <th>0</th>\n",
       "      <td>NaN</td>\n",
       "      <td>78.0</td>\n",
       "      <td>32.0</td>\n",
       "      <td>55.0</td>\n",
       "      <td>5.0</td>\n",
       "      <td>2.0</td>\n",
       "      <td>27.0</td>\n",
       "      <td>245.0</td>\n",
       "      <td>133.0</td>\n",
       "      <td>0.0</td>\n",
       "      <td>...</td>\n",
       "      <td>NaN</td>\n",
       "      <td>NaN</td>\n",
       "      <td>2023-12-18 4:53:19</td>\n",
       "      <td>2023-12-16 21:51:31</td>\n",
       "      <td>UTC+0800</td>\n",
       "      <td>iGosmEieUd</td>\n",
       "      <td>NaN</td>\n",
       "      <td>com.sec.android.app.shealth</td>\n",
       "      <td>2023-12-16 21:36:00</td>\n",
       "      <td>16f8cf4c-d949-4d40-b2cb-687457112eac</td>\n",
       "    </tr>\n",
       "    <tr>\n",
       "      <th>1</th>\n",
       "      <td>NaN</td>\n",
       "      <td>41.0</td>\n",
       "      <td>11.0</td>\n",
       "      <td>47.0</td>\n",
       "      <td>4.0</td>\n",
       "      <td>19.0</td>\n",
       "      <td>32.0</td>\n",
       "      <td>475.0</td>\n",
       "      <td>79.0</td>\n",
       "      <td>4.0</td>\n",
       "      <td>...</td>\n",
       "      <td>NaN</td>\n",
       "      <td>NaN</td>\n",
       "      <td>2023-12-18 4:53:19</td>\n",
       "      <td>2023-12-17 23:11:09</td>\n",
       "      <td>UTC+0800</td>\n",
       "      <td>iGosmEieUd</td>\n",
       "      <td>NaN</td>\n",
       "      <td>com.sec.android.app.shealth</td>\n",
       "      <td>2023-12-17 23:11:00</td>\n",
       "      <td>5f323226-adc6-4c95-b4a8-4beace795e8b</td>\n",
       "    </tr>\n",
       "    <tr>\n",
       "      <th>2</th>\n",
       "      <td>NaN</td>\n",
       "      <td>61.0</td>\n",
       "      <td>8.0</td>\n",
       "      <td>32.0</td>\n",
       "      <td>0.0</td>\n",
       "      <td>19.0</td>\n",
       "      <td>38.0</td>\n",
       "      <td>317.0</td>\n",
       "      <td>42.0</td>\n",
       "      <td>2.0</td>\n",
       "      <td>...</td>\n",
       "      <td>NaN</td>\n",
       "      <td>NaN</td>\n",
       "      <td>2023-12-18 23:04:39</td>\n",
       "      <td>2023-12-18 23:04:29</td>\n",
       "      <td>UTC+0800</td>\n",
       "      <td>iGosmEieUd</td>\n",
       "      <td>NaN</td>\n",
       "      <td>com.sec.android.app.shealth</td>\n",
       "      <td>2023-12-18 22:59:00</td>\n",
       "      <td>127d64de-2f7c-41c8-8ec6-61de5b7f58e8</td>\n",
       "    </tr>\n",
       "  </tbody>\n",
       "</table>\n",
       "<p>3 rows × 48 columns</p>\n",
       "</div>"
      ],
      "text/plain": [
       "   original_efficiency  mental_recovery  factor_01  factor_02  factor_03  \\\n",
       "0                  NaN             78.0       32.0       55.0        5.0   \n",
       "1                  NaN             41.0       11.0       47.0        4.0   \n",
       "2                  NaN             61.0        8.0       32.0        0.0   \n",
       "\n",
       "   factor_04  factor_05  factor_06  factor_07  factor_08  ...  \\\n",
       "0        2.0       27.0      245.0      133.0        0.0  ...   \n",
       "1       19.0       32.0      475.0       79.0        4.0  ...   \n",
       "2       19.0       38.0      317.0       42.0        2.0  ...   \n",
       "\n",
       "   com.samsung.health.sleep.custom  com.samsung.health.sleep.modify_sh_ver  \\\n",
       "0                              NaN                                     NaN   \n",
       "1                              NaN                                     NaN   \n",
       "2                              NaN                                     NaN   \n",
       "\n",
       "   com.samsung.health.sleep.update_time  com.samsung.health.sleep.create_time  \\\n",
       "0                    2023-12-18 4:53:19                   2023-12-16 21:51:31   \n",
       "1                    2023-12-18 4:53:19                   2023-12-17 23:11:09   \n",
       "2                   2023-12-18 23:04:39                   2023-12-18 23:04:29   \n",
       "\n",
       "   com.samsung.health.sleep.time_offset  com.samsung.health.sleep.deviceuuid  \\\n",
       "0                              UTC+0800                           iGosmEieUd   \n",
       "1                              UTC+0800                           iGosmEieUd   \n",
       "2                              UTC+0800                           iGosmEieUd   \n",
       "\n",
       "   com.samsung.health.sleep.comment com.samsung.health.sleep.pkg_name  \\\n",
       "0                               NaN       com.sec.android.app.shealth   \n",
       "1                               NaN       com.sec.android.app.shealth   \n",
       "2                               NaN       com.sec.android.app.shealth   \n",
       "\n",
       "   com.samsung.health.sleep.end_time     com.samsung.health.sleep.datauuid  \n",
       "0                2023-12-16 21:36:00  16f8cf4c-d949-4d40-b2cb-687457112eac  \n",
       "1                2023-12-17 23:11:00  5f323226-adc6-4c95-b4a8-4beace795e8b  \n",
       "2                2023-12-18 22:59:00  127d64de-2f7c-41c8-8ec6-61de5b7f58e8  \n",
       "\n",
       "[3 rows x 48 columns]"
      ]
     },
     "execution_count": 10,
     "metadata": {},
     "output_type": "execute_result"
    }
   ],
   "source": [
    "sleep.head(3)"
   ]
  },
  {
   "cell_type": "code",
   "execution_count": 13,
   "id": "dbbbd137-6bba-43fc-8178-57c0d74afe41",
   "metadata": {},
   "outputs": [
    {
     "data": {
      "text/plain": [
       "(277, 48)"
      ]
     },
     "execution_count": 13,
     "metadata": {},
     "output_type": "execute_result"
    }
   ],
   "source": [
    "sleep.shape"
   ]
  },
  {
   "cell_type": "code",
   "execution_count": 14,
   "id": "edabc488-cf3b-48ea-af47-e05935aaa7f7",
   "metadata": {},
   "outputs": [
    {
     "data": {
      "text/plain": [
       "Index(['original_efficiency', 'mental_recovery', 'factor_01', 'factor_02',\n",
       "       'factor_03', 'factor_04', 'factor_05', 'factor_06', 'factor_07',\n",
       "       'factor_08', 'factor_09', 'factor_10', 'integrated_id',\n",
       "       'has_sleep_data', 'bedtime_detection_delay',\n",
       "       'wakeup_time_detection_delay', 'total_rem_duration', 'combined_id',\n",
       "       'sleep_type', 'sleep_latency', 'data_version', 'physical_recovery',\n",
       "       'original_wake_up_time', 'movement_awakening', 'is_integrated',\n",
       "       'original_bed_time', 'goal_bed_time', 'quality', 'extra_data',\n",
       "       'goal_wake_up_time', 'sleep_cycle', 'total_light_duration',\n",
       "       'efficiency', 'sleep_score', 'sleep_duration', 'stage_analyzed_type',\n",
       "       'com.samsung.health.sleep.create_sh_ver',\n",
       "       'com.samsung.health.sleep.start_time',\n",
       "       'com.samsung.health.sleep.custom',\n",
       "       'com.samsung.health.sleep.modify_sh_ver',\n",
       "       'com.samsung.health.sleep.update_time',\n",
       "       'com.samsung.health.sleep.create_time',\n",
       "       'com.samsung.health.sleep.time_offset',\n",
       "       'com.samsung.health.sleep.deviceuuid',\n",
       "       'com.samsung.health.sleep.comment', 'com.samsung.health.sleep.pkg_name',\n",
       "       'com.samsung.health.sleep.end_time',\n",
       "       'com.samsung.health.sleep.datauuid'],\n",
       "      dtype='object')"
      ]
     },
     "execution_count": 14,
     "metadata": {},
     "output_type": "execute_result"
    }
   ],
   "source": [
    "sleep.columns"
   ]
  },
  {
   "cell_type": "markdown",
   "id": "68420b29-ee2d-417a-b6e6-0146c70108eb",
   "metadata": {},
   "source": [
    "This dataset has even more columns. I'm mainly interested in the high-level values such as sleep score, sleep time, among others."
   ]
  },
  {
   "cell_type": "code",
   "execution_count": 15,
   "id": "1ac5d867-6caf-4769-b968-3a829dddf4d0",
   "metadata": {},
   "outputs": [
    {
     "data": {
      "text/html": [
       "<div>\n",
       "<style scoped>\n",
       "    .dataframe tbody tr th:only-of-type {\n",
       "        vertical-align: middle;\n",
       "    }\n",
       "\n",
       "    .dataframe tbody tr th {\n",
       "        vertical-align: top;\n",
       "    }\n",
       "\n",
       "    .dataframe thead th {\n",
       "        text-align: right;\n",
       "    }\n",
       "</style>\n",
       "<table border=\"1\" class=\"dataframe\">\n",
       "  <thead>\n",
       "    <tr style=\"text-align: right;\">\n",
       "      <th></th>\n",
       "      <th>id</th>\n",
       "      <th>type</th>\n",
       "      <th>x_gear_name</th>\n",
       "      <th>start_date_local</th>\n",
       "      <th>x_week</th>\n",
       "      <th>x_start_h</th>\n",
       "      <th>name</th>\n",
       "      <th>x_min</th>\n",
       "      <th>x_km</th>\n",
       "      <th>x_min/km</th>\n",
       "      <th>...</th>\n",
       "      <th>start_date</th>\n",
       "      <th>timezone</th>\n",
       "      <th>total_photo_count</th>\n",
       "      <th>trainer</th>\n",
       "      <th>upload_id</th>\n",
       "      <th>upload_id_str</th>\n",
       "      <th>utc_offset</th>\n",
       "      <th>x_date</th>\n",
       "      <th>x_elev_%</th>\n",
       "      <th>x_url</th>\n",
       "    </tr>\n",
       "  </thead>\n",
       "  <tbody>\n",
       "    <tr>\n",
       "      <th>0</th>\n",
       "      <td>11500446337</td>\n",
       "      <td>Run</td>\n",
       "      <td>NaN</td>\n",
       "      <td>02.01.2024 17:11:00</td>\n",
       "      <td>2023-W53</td>\n",
       "      <td>17.2</td>\n",
       "      <td>Afternoon Run</td>\n",
       "      <td>42.8</td>\n",
       "      <td>6.11</td>\n",
       "      <td>7.01</td>\n",
       "      <td>...</td>\n",
       "      <td>02.01.2024 17:11:00</td>\n",
       "      <td>(GMT+00:00) GMT</td>\n",
       "      <td>0</td>\n",
       "      <td>0</td>\n",
       "      <td>NaN</td>\n",
       "      <td>NaN</td>\n",
       "      <td>0</td>\n",
       "      <td>2024-01-02</td>\n",
       "      <td>NaN</td>\n",
       "      <td>https://www.strava.com/activities/11500446337</td>\n",
       "    </tr>\n",
       "    <tr>\n",
       "      <th>1</th>\n",
       "      <td>11500452565</td>\n",
       "      <td>Run</td>\n",
       "      <td>NaN</td>\n",
       "      <td>04.01.2024 17:16:00</td>\n",
       "      <td>2023-W53</td>\n",
       "      <td>17.3</td>\n",
       "      <td>Afternoon Run</td>\n",
       "      <td>18.6</td>\n",
       "      <td>3.02</td>\n",
       "      <td>6.14</td>\n",
       "      <td>...</td>\n",
       "      <td>04.01.2024 17:16:00</td>\n",
       "      <td>(GMT+00:00) GMT</td>\n",
       "      <td>0</td>\n",
       "      <td>0</td>\n",
       "      <td>NaN</td>\n",
       "      <td>NaN</td>\n",
       "      <td>0</td>\n",
       "      <td>2024-01-04</td>\n",
       "      <td>NaN</td>\n",
       "      <td>https://www.strava.com/activities/11500452565</td>\n",
       "    </tr>\n",
       "    <tr>\n",
       "      <th>2</th>\n",
       "      <td>11500460588</td>\n",
       "      <td>Run</td>\n",
       "      <td>NaN</td>\n",
       "      <td>07.01.2024 18:41:00</td>\n",
       "      <td>2024-W01</td>\n",
       "      <td>18.7</td>\n",
       "      <td>Evening Run</td>\n",
       "      <td>11.0</td>\n",
       "      <td>2.05</td>\n",
       "      <td>5.38</td>\n",
       "      <td>...</td>\n",
       "      <td>07.01.2024 18:41:00</td>\n",
       "      <td>(GMT+00:00) GMT</td>\n",
       "      <td>0</td>\n",
       "      <td>0</td>\n",
       "      <td>NaN</td>\n",
       "      <td>NaN</td>\n",
       "      <td>0</td>\n",
       "      <td>2024-01-07</td>\n",
       "      <td>NaN</td>\n",
       "      <td>https://www.strava.com/activities/11500460588</td>\n",
       "    </tr>\n",
       "  </tbody>\n",
       "</table>\n",
       "<p>3 rows × 72 columns</p>\n",
       "</div>"
      ],
      "text/plain": [
       "            id type x_gear_name     start_date_local    x_week  x_start_h  \\\n",
       "0  11500446337  Run         NaN  02.01.2024 17:11:00  2023-W53       17.2   \n",
       "1  11500452565  Run         NaN  04.01.2024 17:16:00  2023-W53       17.3   \n",
       "2  11500460588  Run         NaN  07.01.2024 18:41:00  2024-W01       18.7   \n",
       "\n",
       "            name  x_min  x_km  x_min/km  ...           start_date  \\\n",
       "0  Afternoon Run   42.8  6.11      7.01  ...  02.01.2024 17:11:00   \n",
       "1  Afternoon Run   18.6  3.02      6.14  ...  04.01.2024 17:16:00   \n",
       "2    Evening Run   11.0  2.05      5.38  ...  07.01.2024 18:41:00   \n",
       "\n",
       "          timezone  total_photo_count  trainer  upload_id  upload_id_str  \\\n",
       "0  (GMT+00:00) GMT                  0        0        NaN            NaN   \n",
       "1  (GMT+00:00) GMT                  0        0        NaN            NaN   \n",
       "2  (GMT+00:00) GMT                  0        0        NaN            NaN   \n",
       "\n",
       "   utc_offset      x_date  x_elev_%  \\\n",
       "0           0  2024-01-02       NaN   \n",
       "1           0  2024-01-04       NaN   \n",
       "2           0  2024-01-07       NaN   \n",
       "\n",
       "                                           x_url  \n",
       "0  https://www.strava.com/activities/11500446337  \n",
       "1  https://www.strava.com/activities/11500452565  \n",
       "2  https://www.strava.com/activities/11500460588  \n",
       "\n",
       "[3 rows x 72 columns]"
      ]
     },
     "execution_count": 15,
     "metadata": {},
     "output_type": "execute_result"
    }
   ],
   "source": [
    "exercise.head(3)"
   ]
  },
  {
   "cell_type": "code",
   "execution_count": 11,
   "id": "354d3614-d949-4b34-af2e-c9dbf930dd3f",
   "metadata": {},
   "outputs": [
    {
     "data": {
      "text/plain": [
       "(71, 72)"
      ]
     },
     "execution_count": 11,
     "metadata": {},
     "output_type": "execute_result"
    }
   ],
   "source": [
    "exercise.shape"
   ]
  },
  {
   "cell_type": "code",
   "execution_count": 16,
   "id": "0a44e568-dea8-4b57-9aca-d155dff35743",
   "metadata": {},
   "outputs": [
    {
     "data": {
      "text/plain": [
       "Index(['id', 'type', 'x_gear_name', 'start_date_local', 'x_week', 'x_start_h',\n",
       "       'name', 'x_min', 'x_km', 'x_min/km', 'km/h', 'x_max_km/h', 'x_mi',\n",
       "       'x_min/mi', 'x_mph', 'x_max_mph', 'total_elevation_gain', 'x_elev_m/km',\n",
       "       'average_heartrate', 'max_heartrate', 'average_cadence',\n",
       "       'average_watts', 'kilojoules', 'commute', 'private', 'visibility',\n",
       "       'workout_type', 'x_nearest_city_start', 'x_start_locality',\n",
       "       'x_end_locality', 'x_dist_start_end_km', 'start_latlng', 'end_latlng',\n",
       "       'elev_low', 'elev_high', 'kudos_count', 'comment_count',\n",
       "       'achievement_count', 'athlete', 'athlete_count', 'average_speed',\n",
       "       'display_hide_heartrate_option', 'distance', 'elapsed_time',\n",
       "       'external_id', 'flagged', 'from_accepted_tag', 'gear_id',\n",
       "       'has_heartrate', 'has_kudoed', 'heartrate_opt_out', 'location_city',\n",
       "       'location_country', 'location_state', 'manual', 'map', 'max_speed',\n",
       "       'moving_time', 'photo_count', 'pr_count', 'resource_state',\n",
       "       'sport_type', 'start_date', 'timezone', 'total_photo_count', 'trainer',\n",
       "       'upload_id', 'upload_id_str', 'utc_offset', 'x_date', 'x_elev_%',\n",
       "       'x_url'],\n",
       "      dtype='object')"
      ]
     },
     "execution_count": 16,
     "metadata": {},
     "output_type": "execute_result"
    }
   ],
   "source": [
    "exercise.columns"
   ]
  },
  {
   "cell_type": "code",
   "execution_count": 17,
   "id": "d127b41d-41ef-4004-b0bc-6a50baf47fc7",
   "metadata": {},
   "outputs": [
    {
     "data": {
      "text/plain": [
       "array(['Run', 'WeightTraining', 'Hike'], dtype=object)"
      ]
     },
     "execution_count": 17,
     "metadata": {},
     "output_type": "execute_result"
    }
   ],
   "source": [
    "exercise.sport_type.unique()"
   ]
  },
  {
   "cell_type": "markdown",
   "id": "34cc423c-fae8-4fe8-84e1-8baef382fbd9",
   "metadata": {},
   "source": [
    "The same observations apply."
   ]
  },
  {
   "cell_type": "code",
   "execution_count": 72,
   "id": "a56b9559-1354-4bf0-9d99-fb5706c83792",
   "metadata": {},
   "outputs": [
    {
     "data": {
      "text/html": [
       "<div>\n",
       "<style scoped>\n",
       "    .dataframe tbody tr th:only-of-type {\n",
       "        vertical-align: middle;\n",
       "    }\n",
       "\n",
       "    .dataframe tbody tr th {\n",
       "        vertical-align: top;\n",
       "    }\n",
       "\n",
       "    .dataframe thead th {\n",
       "        text-align: right;\n",
       "    }\n",
       "</style>\n",
       "<table border=\"1\" class=\"dataframe\">\n",
       "  <thead>\n",
       "    <tr style=\"text-align: right;\">\n",
       "      <th></th>\n",
       "      <th>manufacturer</th>\n",
       "      <th>providing_step_goal</th>\n",
       "      <th>create_sh_ver</th>\n",
       "      <th>step_source_group</th>\n",
       "      <th>device_type</th>\n",
       "      <th>backsync_step_goal</th>\n",
       "      <th>capability</th>\n",
       "      <th>modify_sh_ver</th>\n",
       "      <th>device_group</th>\n",
       "      <th>update_time</th>\n",
       "      <th>create_time</th>\n",
       "      <th>name</th>\n",
       "      <th>model</th>\n",
       "      <th>connectivity_type</th>\n",
       "      <th>deviceuuid</th>\n",
       "      <th>pkg_name</th>\n",
       "      <th>fixed_name</th>\n",
       "      <th>datauuid</th>\n",
       "    </tr>\n",
       "  </thead>\n",
       "  <tbody>\n",
       "    <tr>\n",
       "      <th>0</th>\n",
       "      <td>Samsung</td>\n",
       "      <td>NaN</td>\n",
       "      <td>NaN</td>\n",
       "      <td>NaN</td>\n",
       "      <td>NaN</td>\n",
       "      <td>NaN</td>\n",
       "      <td>NaN</td>\n",
       "      <td>NaN</td>\n",
       "      <td>360001</td>\n",
       "      <td>2024-01-29 23:56:30</td>\n",
       "      <td>2024-01-29 23:56:30</td>\n",
       "      <td>My Device</td>\n",
       "      <td>SM-S921B</td>\n",
       "      <td>NaN</td>\n",
       "      <td>rQMD+kro3I</td>\n",
       "      <td>com.sec.android.app.shealth</td>\n",
       "      <td>Val's S24</td>\n",
       "      <td>3b454f4f-dffc-f3cc-8fa7-a627ee73ed81</td>\n",
       "    </tr>\n",
       "    <tr>\n",
       "      <th>1</th>\n",
       "      <td>Samsung</td>\n",
       "      <td>NaN</td>\n",
       "      <td>NaN</td>\n",
       "      <td>NaN</td>\n",
       "      <td>NaN</td>\n",
       "      <td>NaN</td>\n",
       "      <td>NaN</td>\n",
       "      <td>NaN</td>\n",
       "      <td>360001</td>\n",
       "      <td>2023-12-18 4:52:24</td>\n",
       "      <td>2023-12-18 4:52:24</td>\n",
       "      <td>My Device</td>\n",
       "      <td>SM-S711B</td>\n",
       "      <td>NaN</td>\n",
       "      <td>yj7lN7gpxt</td>\n",
       "      <td>com.sec.android.app.shealth</td>\n",
       "      <td>Val's S23 FE</td>\n",
       "      <td>3229b35c-0992-f7a8-92eb-cd6b1180f8f7</td>\n",
       "    </tr>\n",
       "    <tr>\n",
       "      <th>2</th>\n",
       "      <td>Combined</td>\n",
       "      <td>NaN</td>\n",
       "      <td>NaN</td>\n",
       "      <td>NaN</td>\n",
       "      <td>NaN</td>\n",
       "      <td>NaN</td>\n",
       "      <td>NaN</td>\n",
       "      <td>NaN</td>\n",
       "      <td>0</td>\n",
       "      <td>2024-02-02 1:10:07</td>\n",
       "      <td>2024-02-02 1:10:07</td>\n",
       "      <td>Combined</td>\n",
       "      <td>Combined</td>\n",
       "      <td>NaN</td>\n",
       "      <td>VfS0qUERdZ</td>\n",
       "      <td>com.sec.android.app.shealth</td>\n",
       "      <td>Val's Tab S9 FE</td>\n",
       "      <td>7af9722c-cd99-07b7-853a-43ce58e819c5</td>\n",
       "    </tr>\n",
       "    <tr>\n",
       "      <th>3</th>\n",
       "      <td>Samsung Electronics</td>\n",
       "      <td>1.0</td>\n",
       "      <td>NaN</td>\n",
       "      <td>106.0</td>\n",
       "      <td>10058.0</td>\n",
       "      <td>1.0</td>\n",
       "      <td>ed84774b-af9d-4eee-9c57-5bb2badf905d.capabilit...</td>\n",
       "      <td>NaN</td>\n",
       "      <td>360003</td>\n",
       "      <td>2023-12-16 16:51:19</td>\n",
       "      <td>2023-11-07 13:11:06</td>\n",
       "      <td>Galaxy Watch6</td>\n",
       "      <td>SM-R930</td>\n",
       "      <td>NaN</td>\n",
       "      <td>iGosmEieUd</td>\n",
       "      <td>com.sec.android.app.shealth</td>\n",
       "      <td>NaN</td>\n",
       "      <td>ed84774b-af9d-4eee-9c57-5bb2badf905d</td>\n",
       "    </tr>\n",
       "    <tr>\n",
       "      <th>4</th>\n",
       "      <td>all_target</td>\n",
       "      <td>NaN</td>\n",
       "      <td>NaN</td>\n",
       "      <td>NaN</td>\n",
       "      <td>NaN</td>\n",
       "      <td>NaN</td>\n",
       "      <td>NaN</td>\n",
       "      <td>NaN</td>\n",
       "      <td>0</td>\n",
       "      <td>2024-02-02 1:10:10</td>\n",
       "      <td>2024-02-02 1:10:10</td>\n",
       "      <td>all_target</td>\n",
       "      <td>all_target</td>\n",
       "      <td>NaN</td>\n",
       "      <td>Mk66SbFqK1</td>\n",
       "      <td>com.sec.android.app.shealth</td>\n",
       "      <td>Val's Tab S9 FE</td>\n",
       "      <td>471ca32b-a665-1e9e-7c27-7ac69485dc05</td>\n",
       "    </tr>\n",
       "  </tbody>\n",
       "</table>\n",
       "</div>"
      ],
      "text/plain": [
       "          manufacturer  providing_step_goal  create_sh_ver  step_source_group  \\\n",
       "0              Samsung                  NaN            NaN                NaN   \n",
       "1              Samsung                  NaN            NaN                NaN   \n",
       "2             Combined                  NaN            NaN                NaN   \n",
       "3  Samsung Electronics                  1.0            NaN              106.0   \n",
       "4           all_target                  NaN            NaN                NaN   \n",
       "\n",
       "   device_type  backsync_step_goal  \\\n",
       "0          NaN                 NaN   \n",
       "1          NaN                 NaN   \n",
       "2          NaN                 NaN   \n",
       "3      10058.0                 1.0   \n",
       "4          NaN                 NaN   \n",
       "\n",
       "                                          capability  modify_sh_ver  \\\n",
       "0                                                NaN            NaN   \n",
       "1                                                NaN            NaN   \n",
       "2                                                NaN            NaN   \n",
       "3  ed84774b-af9d-4eee-9c57-5bb2badf905d.capabilit...            NaN   \n",
       "4                                                NaN            NaN   \n",
       "\n",
       "   device_group          update_time          create_time           name  \\\n",
       "0        360001  2024-01-29 23:56:30  2024-01-29 23:56:30      My Device   \n",
       "1        360001   2023-12-18 4:52:24   2023-12-18 4:52:24      My Device   \n",
       "2             0   2024-02-02 1:10:07   2024-02-02 1:10:07       Combined   \n",
       "3        360003  2023-12-16 16:51:19  2023-11-07 13:11:06  Galaxy Watch6   \n",
       "4             0   2024-02-02 1:10:10   2024-02-02 1:10:10     all_target   \n",
       "\n",
       "        model  connectivity_type  deviceuuid                     pkg_name  \\\n",
       "0    SM-S921B                NaN  rQMD+kro3I  com.sec.android.app.shealth   \n",
       "1    SM-S711B                NaN  yj7lN7gpxt  com.sec.android.app.shealth   \n",
       "2    Combined                NaN  VfS0qUERdZ  com.sec.android.app.shealth   \n",
       "3     SM-R930                NaN  iGosmEieUd  com.sec.android.app.shealth   \n",
       "4  all_target                NaN  Mk66SbFqK1  com.sec.android.app.shealth   \n",
       "\n",
       "        fixed_name                              datauuid  \n",
       "0        Val's S24  3b454f4f-dffc-f3cc-8fa7-a627ee73ed81  \n",
       "1     Val's S23 FE  3229b35c-0992-f7a8-92eb-cd6b1180f8f7  \n",
       "2  Val's Tab S9 FE  7af9722c-cd99-07b7-853a-43ce58e819c5  \n",
       "3              NaN  ed84774b-af9d-4eee-9c57-5bb2badf905d  \n",
       "4  Val's Tab S9 FE  471ca32b-a665-1e9e-7c27-7ac69485dc05  "
      ]
     },
     "execution_count": 72,
     "metadata": {},
     "output_type": "execute_result"
    }
   ],
   "source": [
    "devices.name "
   ]
  },
  {
   "cell_type": "markdown",
   "id": "62d2c4dd-6a47-4dbe-9ceb-65e71d23676d",
   "metadata": {},
   "source": [
    "## 🤓 Step 2: Data Preparation\n",
    "For each dataset, we'll do the following procesing steps:\n",
    "- Drop irrelevant columns and rows\n",
    "- Change datatypes\n",
    "- Rename columns\n",
    "- Feature creation\n",
    "\n",
    "Other forms of preparation will also be done depending on the nature of each dataset. Once everything's clean, we'll merge all dataframes."
   ]
  },
  {
   "cell_type": "code",
   "execution_count": 33,
   "id": "e46724d5-d68e-43bd-b599-d2c061f20731",
   "metadata": {},
   "outputs": [],
   "source": [
    "# Some variables\n",
    "start_date = pd.to_datetime('2024-01-15')\n",
    "end_date = pd.to_datetime('2024-05-20')\n",
    "gw6_id1 = 'iGosmEieUd'\n",
    "gw6_id2 = '0yH08JetXB'"
   ]
  },
  {
   "cell_type": "markdown",
   "id": "acac91d6-c552-429e-ae4e-b156d8fed939",
   "metadata": {
    "jp-MarkdownHeadingCollapsed": true
   },
   "source": [
    "### Habits"
   ]
  },
  {
   "cell_type": "code",
   "execution_count": 6,
   "id": "0cf8c4ce-eb68-4ea2-984c-98711bd17f0f",
   "metadata": {},
   "outputs": [
    {
     "data": {
      "text/plain": [
       "Index(['Timestamp', 'Toothbrush', 'Skincare', 'Daily mental well-being',\n",
       "       'Read', 'Touch typing', 'Exercise', 'Minutes meditated',\n",
       "       'What were you grateful for today?', 'Any notable wins today?',\n",
       "       'Any message for future Val?', 'Poop', 'Type',\n",
       "       'What went well this week?',\n",
       "       'Which goals did I NOT achieve? Which intentions did I NOT keep?',\n",
       "       'What is my Most Important Task for this Week? How will I Make Sure I Get it Done?',\n",
       "       ' How can I Make Things Faster, Easier or Obsolete?',\n",
       "       'If I were to 10x my goals, what would I do to achieve them?',\n",
       "       'What am I NOT doing even though I know I should?',\n",
       "       'Math practice outside class in hours',\n",
       "       'What was a win for you today? (It's perfectly fine to have none! 😊)',\n",
       "       'Infinite scrolled? (more than 30 minutes of scrolling)'],\n",
       "      dtype='object')"
      ]
     },
     "execution_count": 6,
     "metadata": {},
     "output_type": "execute_result"
    }
   ],
   "source": [
    "habits.columns"
   ]
  },
  {
   "cell_type": "code",
   "execution_count": 7,
   "id": "de53aa8f-0abc-4f4a-a0d1-35a0745744fb",
   "metadata": {},
   "outputs": [
    {
     "data": {
      "text/plain": [
       "Timestamp                                                                              0\n",
       "Toothbrush                                                                             7\n",
       "Skincare                                                                               7\n",
       "Daily mental well-being                                                                7\n",
       "Read                                                                                   7\n",
       "Touch typing                                                                           7\n",
       "Exercise                                                                               8\n",
       "Minutes meditated                                                                      7\n",
       "What were you grateful for today?                                                      7\n",
       "Any notable wins today?                                                              127\n",
       "Any message for future Val?                                                          127\n",
       "Poop                                                                                   7\n",
       "Type                                                                                   7\n",
       "What went well this week?                                                            118\n",
       "Which goals did I NOT achieve? Which intentions did I NOT keep?                      118\n",
       "What is my Most Important Task for this Week? How will I Make Sure I Get it Done?    118\n",
       " How can I Make Things Faster, Easier or Obsolete?                                   118\n",
       "If I were to 10x my goals, what would I do to achieve them?                          118\n",
       "What am I NOT doing even though I know I should?                                     118\n",
       "Math practice outside class in hours                                                  16\n",
       "What was a win for you today? (It's perfectly fine to have none! 😊)                   26\n",
       "Infinite scrolled? (more than 30 minutes of scrolling)                                26\n",
       "dtype: int64"
      ]
     },
     "execution_count": 7,
     "metadata": {},
     "output_type": "execute_result"
    }
   ],
   "source": [
    "habits.isna().sum()"
   ]
  },
  {
   "cell_type": "code",
   "execution_count": 8,
   "id": "cc6907fd-a733-484b-aa5d-7be113986979",
   "metadata": {},
   "outputs": [],
   "source": [
    "habits = habits[['Timestamp', 'Toothbrush', 'Skincare', 'Daily mental well-being',\n",
    "       'Read', 'Touch typing', 'Exercise', 'Minutes meditated',\n",
    "       'What were you grateful for today?', \n",
    "       # 'Any notable wins today?',\n",
    "       # 'Any message for future Val?', \n",
    "        'Poop', \n",
    "       # 'Type',\n",
    "       # 'What went well this week?',\n",
    "       # 'Which goals did I NOT achieve? Which intentions did I NOT keep?',\n",
    "       # 'What is my Most Important Task for this Week? How will I Make Sure I Get it Done?',\n",
    "       # ' How can I Make Things Faster, Easier or Obsolete?',\n",
    "       # 'If I were to 10x my goals, what would I do to achieve them?',\n",
    "       # 'What am I NOT doing even though I know I should?',\n",
    "       'Math practice outside class in hours',\n",
    "       \"What was a win for you today? (It's perfectly fine to have none! 😊)\",\n",
    "       'Infinite scrolled? (more than 30 minutes of scrolling)']].copy()"
   ]
  },
  {
   "cell_type": "code",
   "execution_count": 9,
   "id": "60136b2a-2fdc-4873-8a13-4ddc9c5659cc",
   "metadata": {},
   "outputs": [],
   "source": [
    "# Rename columns\n",
    "habits.columns = 'date,toothbrush,skincare,mood,read,touch_type,exercise,minutes_meditated,grateful_for,poop,math_practice,win,infinite_scrolled'.split(',')"
   ]
  },
  {
   "cell_type": "code",
   "execution_count": 10,
   "id": "3cf5e2ed-e007-4751-ac4d-42f60009c54c",
   "metadata": {},
   "outputs": [],
   "source": [
    "# Fix timestamp datatype\n",
    "habits.date = pd.to_datetime(habits.date + '/2024', format='%m/%d/%Y')\n",
    "# Turn to numeric\n",
    "habits.toothbrush = pd.to_numeric(habits.toothbrush)\n",
    "for col in ['read', 'touch_type', 'poop']:\n",
    "    habits[col] = habits[col].map({'Yes': 1, 'No': 0})\n",
    "habits.skincare = habits.skincare.map({'Complete': 1, 'Morning only': 0.5, 'Night only': 0.5, 'Incomplete': 0})"
   ]
  },
  {
   "cell_type": "code",
   "execution_count": 11,
   "id": "c59f49db-30c1-40f1-9f55-184a941e96b6",
   "metadata": {},
   "outputs": [
    {
     "data": {
      "text/html": [
       "<div>\n",
       "<style scoped>\n",
       "    .dataframe tbody tr th:only-of-type {\n",
       "        vertical-align: middle;\n",
       "    }\n",
       "\n",
       "    .dataframe tbody tr th {\n",
       "        vertical-align: top;\n",
       "    }\n",
       "\n",
       "    .dataframe thead th {\n",
       "        text-align: right;\n",
       "    }\n",
       "</style>\n",
       "<table border=\"1\" class=\"dataframe\">\n",
       "  <thead>\n",
       "    <tr style=\"text-align: right;\">\n",
       "      <th></th>\n",
       "      <th>date</th>\n",
       "      <th>toothbrush</th>\n",
       "      <th>skincare</th>\n",
       "      <th>mood</th>\n",
       "      <th>read</th>\n",
       "      <th>touch_type</th>\n",
       "      <th>exercise</th>\n",
       "      <th>minutes_meditated</th>\n",
       "      <th>grateful_for</th>\n",
       "      <th>poop</th>\n",
       "      <th>math_practice</th>\n",
       "      <th>win</th>\n",
       "      <th>infinite_scrolled</th>\n",
       "    </tr>\n",
       "  </thead>\n",
       "  <tbody>\n",
       "    <tr>\n",
       "      <th>0</th>\n",
       "      <td>2024-01-15</td>\n",
       "      <td>2.0</td>\n",
       "      <td>1.0</td>\n",
       "      <td>3.0</td>\n",
       "      <td>1.0</td>\n",
       "      <td>0.0</td>\n",
       "      <td>Daily steps</td>\n",
       "      <td>5.0</td>\n",
       "      <td>malena</td>\n",
       "      <td>1.0</td>\n",
       "      <td>NaN</td>\n",
       "      <td>NaN</td>\n",
       "      <td>NaN</td>\n",
       "    </tr>\n",
       "    <tr>\n",
       "      <th>1</th>\n",
       "      <td>2024-01-16</td>\n",
       "      <td>1.0</td>\n",
       "      <td>0.5</td>\n",
       "      <td>3.0</td>\n",
       "      <td>1.0</td>\n",
       "      <td>0.0</td>\n",
       "      <td>Badminton</td>\n",
       "      <td>0.0</td>\n",
       "      <td>malena</td>\n",
       "      <td>0.0</td>\n",
       "      <td>NaN</td>\n",
       "      <td>NaN</td>\n",
       "      <td>NaN</td>\n",
       "    </tr>\n",
       "    <tr>\n",
       "      <th>2</th>\n",
       "      <td>2024-01-17</td>\n",
       "      <td>2.0</td>\n",
       "      <td>1.0</td>\n",
       "      <td>4.0</td>\n",
       "      <td>1.0</td>\n",
       "      <td>1.0</td>\n",
       "      <td>Walk</td>\n",
       "      <td>5.0</td>\n",
       "      <td>malena</td>\n",
       "      <td>1.0</td>\n",
       "      <td>NaN</td>\n",
       "      <td>NaN</td>\n",
       "      <td>NaN</td>\n",
       "    </tr>\n",
       "  </tbody>\n",
       "</table>\n",
       "</div>"
      ],
      "text/plain": [
       "        date  toothbrush  skincare  mood  read  touch_type     exercise  \\\n",
       "0 2024-01-15         2.0       1.0   3.0   1.0         0.0  Daily steps   \n",
       "1 2024-01-16         1.0       0.5   3.0   1.0         0.0    Badminton   \n",
       "2 2024-01-17         2.0       1.0   4.0   1.0         1.0         Walk   \n",
       "\n",
       "   minutes_meditated grateful_for  poop  math_practice  win infinite_scrolled  \n",
       "0                5.0       malena   1.0            NaN  NaN               NaN  \n",
       "1                0.0       malena   0.0            NaN  NaN               NaN  \n",
       "2                5.0       malena   1.0            NaN  NaN               NaN  "
      ]
     },
     "execution_count": 11,
     "metadata": {},
     "output_type": "execute_result"
    }
   ],
   "source": [
    "habits.head(3)"
   ]
  },
  {
   "cell_type": "markdown",
   "id": "c5ceb4e3-8dd4-4b9a-9699-52878da5227d",
   "metadata": {
    "jp-MarkdownHeadingCollapsed": true
   },
   "source": [
    "### Events"
   ]
  },
  {
   "cell_type": "code",
   "execution_count": 12,
   "id": "94fcc3e5-5df9-4e86-9315-19b027e6e7b4",
   "metadata": {},
   "outputs": [],
   "source": [
    "events.date_start = pd.to_datetime(events.date_start, format='mixed')\n",
    "events.date_end = pd.to_datetime(events.date_end, format='mixed')"
   ]
  },
  {
   "cell_type": "code",
   "execution_count": 13,
   "id": "0a0712d6-312c-4ebc-a016-d5e25425f6dc",
   "metadata": {},
   "outputs": [
    {
     "data": {
      "text/html": [
       "<div>\n",
       "<style scoped>\n",
       "    .dataframe tbody tr th:only-of-type {\n",
       "        vertical-align: middle;\n",
       "    }\n",
       "\n",
       "    .dataframe tbody tr th {\n",
       "        vertical-align: top;\n",
       "    }\n",
       "\n",
       "    .dataframe thead th {\n",
       "        text-align: right;\n",
       "    }\n",
       "</style>\n",
       "<table border=\"1\" class=\"dataframe\">\n",
       "  <thead>\n",
       "    <tr style=\"text-align: right;\">\n",
       "      <th></th>\n",
       "      <th>event</th>\n",
       "      <th>type</th>\n",
       "      <th>date_start</th>\n",
       "      <th>date_end</th>\n",
       "    </tr>\n",
       "  </thead>\n",
       "  <tbody>\n",
       "    <tr>\n",
       "      <th>0</th>\n",
       "      <td>Samsung Mission</td>\n",
       "      <td>extracurricular</td>\n",
       "      <td>2024-01-12</td>\n",
       "      <td>NaT</td>\n",
       "    </tr>\n",
       "    <tr>\n",
       "      <th>1</th>\n",
       "      <td>Samsung Mission</td>\n",
       "      <td>extracurricular</td>\n",
       "      <td>2024-01-15</td>\n",
       "      <td>NaT</td>\n",
       "    </tr>\n",
       "    <tr>\n",
       "      <th>2</th>\n",
       "      <td>Samsung Mission</td>\n",
       "      <td>extracurricular</td>\n",
       "      <td>2024-01-18</td>\n",
       "      <td>NaT</td>\n",
       "    </tr>\n",
       "    <tr>\n",
       "      <th>3</th>\n",
       "      <td>Samsung Mission</td>\n",
       "      <td>extracurricular</td>\n",
       "      <td>2024-01-27</td>\n",
       "      <td>NaT</td>\n",
       "    </tr>\n",
       "    <tr>\n",
       "      <th>4</th>\n",
       "      <td>Samsung Mission</td>\n",
       "      <td>extracurricular</td>\n",
       "      <td>2024-02-02</td>\n",
       "      <td>NaT</td>\n",
       "    </tr>\n",
       "    <tr>\n",
       "      <th>5</th>\n",
       "      <td>Samsung Mission</td>\n",
       "      <td>extracurricular</td>\n",
       "      <td>2024-02-29</td>\n",
       "      <td>NaT</td>\n",
       "    </tr>\n",
       "    <tr>\n",
       "      <th>6</th>\n",
       "      <td>Samsung Mission</td>\n",
       "      <td>extracurricular</td>\n",
       "      <td>2024-03-04</td>\n",
       "      <td>NaT</td>\n",
       "    </tr>\n",
       "    <tr>\n",
       "      <th>7</th>\n",
       "      <td>Samsung Mission</td>\n",
       "      <td>extracurricular</td>\n",
       "      <td>2024-03-01</td>\n",
       "      <td>NaT</td>\n",
       "    </tr>\n",
       "    <tr>\n",
       "      <th>8</th>\n",
       "      <td>Samsung Mission</td>\n",
       "      <td>extracurricular</td>\n",
       "      <td>2024-03-19</td>\n",
       "      <td>NaT</td>\n",
       "    </tr>\n",
       "    <tr>\n",
       "      <th>9</th>\n",
       "      <td>Samsung Mission</td>\n",
       "      <td>extracurricular</td>\n",
       "      <td>2024-03-27</td>\n",
       "      <td>NaT</td>\n",
       "    </tr>\n",
       "    <tr>\n",
       "      <th>10</th>\n",
       "      <td>Samsung Mission</td>\n",
       "      <td>extracurricular</td>\n",
       "      <td>2024-05-21</td>\n",
       "      <td>NaT</td>\n",
       "    </tr>\n",
       "    <tr>\n",
       "      <th>11</th>\n",
       "      <td>Samsung Galaxy Run</td>\n",
       "      <td>fun</td>\n",
       "      <td>2024-04-21</td>\n",
       "      <td>NaT</td>\n",
       "    </tr>\n",
       "    <tr>\n",
       "      <th>12</th>\n",
       "      <td>IEdeathon</td>\n",
       "      <td>hackathon</td>\n",
       "      <td>2024-02-10</td>\n",
       "      <td>NaT</td>\n",
       "    </tr>\n",
       "    <tr>\n",
       "      <th>13</th>\n",
       "      <td>Blue Hacks</td>\n",
       "      <td>hackathon</td>\n",
       "      <td>2024-04-27</td>\n",
       "      <td>2024-04-28</td>\n",
       "    </tr>\n",
       "    <tr>\n",
       "      <th>14</th>\n",
       "      <td>NSTP Live Out</td>\n",
       "      <td>academic</td>\n",
       "      <td>2024-03-23</td>\n",
       "      <td>2024-03-24</td>\n",
       "    </tr>\n",
       "    <tr>\n",
       "      <th>15</th>\n",
       "      <td>Hack4Health</td>\n",
       "      <td>hackathon</td>\n",
       "      <td>2024-05-15</td>\n",
       "      <td>2024-05-17</td>\n",
       "    </tr>\n",
       "    <tr>\n",
       "      <th>16</th>\n",
       "      <td>Holy Week</td>\n",
       "      <td>long holiday</td>\n",
       "      <td>2024-03-25</td>\n",
       "      <td>2024-03-31</td>\n",
       "    </tr>\n",
       "    <tr>\n",
       "      <th>17</th>\n",
       "      <td>Synergy</td>\n",
       "      <td>hackathon</td>\n",
       "      <td>2024-05-08</td>\n",
       "      <td>2024-05-11</td>\n",
       "    </tr>\n",
       "    <tr>\n",
       "      <th>18</th>\n",
       "      <td>MATH 31.4 LT 1</td>\n",
       "      <td>long test</td>\n",
       "      <td>2024-03-12</td>\n",
       "      <td>NaT</td>\n",
       "    </tr>\n",
       "    <tr>\n",
       "      <th>19</th>\n",
       "      <td>MATH 31.4 LT 2</td>\n",
       "      <td>long test</td>\n",
       "      <td>2024-04-19</td>\n",
       "      <td>NaT</td>\n",
       "    </tr>\n",
       "    <tr>\n",
       "      <th>20</th>\n",
       "      <td>MATH 31.4 LT 3</td>\n",
       "      <td>long test</td>\n",
       "      <td>2024-05-14</td>\n",
       "      <td>NaT</td>\n",
       "    </tr>\n",
       "    <tr>\n",
       "      <th>21</th>\n",
       "      <td>MATH 40.1 LT 1</td>\n",
       "      <td>long test</td>\n",
       "      <td>2024-02-28</td>\n",
       "      <td>NaT</td>\n",
       "    </tr>\n",
       "    <tr>\n",
       "      <th>22</th>\n",
       "      <td>MATH 40.1 LT 2</td>\n",
       "      <td>long test</td>\n",
       "      <td>2024-04-03</td>\n",
       "      <td>NaT</td>\n",
       "    </tr>\n",
       "    <tr>\n",
       "      <th>23</th>\n",
       "      <td>MATH 40.1 LT 3</td>\n",
       "      <td>long test</td>\n",
       "      <td>2024-05-02</td>\n",
       "      <td>NaT</td>\n",
       "    </tr>\n",
       "    <tr>\n",
       "      <th>24</th>\n",
       "      <td>MATH 40.1 LT 4</td>\n",
       "      <td>long test</td>\n",
       "      <td>2024-05-20</td>\n",
       "      <td>NaT</td>\n",
       "    </tr>\n",
       "    <tr>\n",
       "      <th>25</th>\n",
       "      <td>MATH 61.2 LT 1</td>\n",
       "      <td>long test</td>\n",
       "      <td>2024-02-16</td>\n",
       "      <td>NaT</td>\n",
       "    </tr>\n",
       "    <tr>\n",
       "      <th>26</th>\n",
       "      <td>MATH 61.2 LT 2</td>\n",
       "      <td>long test</td>\n",
       "      <td>2024-03-21</td>\n",
       "      <td>NaT</td>\n",
       "    </tr>\n",
       "    <tr>\n",
       "      <th>27</th>\n",
       "      <td>MATH 61.2 LT 3</td>\n",
       "      <td>long test</td>\n",
       "      <td>2024-05-08</td>\n",
       "      <td>NaT</td>\n",
       "    </tr>\n",
       "  </tbody>\n",
       "</table>\n",
       "</div>"
      ],
      "text/plain": [
       "                 event             type date_start   date_end\n",
       "0      Samsung Mission  extracurricular 2024-01-12        NaT\n",
       "1      Samsung Mission  extracurricular 2024-01-15        NaT\n",
       "2      Samsung Mission  extracurricular 2024-01-18        NaT\n",
       "3      Samsung Mission  extracurricular 2024-01-27        NaT\n",
       "4      Samsung Mission  extracurricular 2024-02-02        NaT\n",
       "5      Samsung Mission  extracurricular 2024-02-29        NaT\n",
       "6      Samsung Mission  extracurricular 2024-03-04        NaT\n",
       "7      Samsung Mission  extracurricular 2024-03-01        NaT\n",
       "8      Samsung Mission  extracurricular 2024-03-19        NaT\n",
       "9      Samsung Mission  extracurricular 2024-03-27        NaT\n",
       "10     Samsung Mission  extracurricular 2024-05-21        NaT\n",
       "11  Samsung Galaxy Run              fun 2024-04-21        NaT\n",
       "12           IEdeathon        hackathon 2024-02-10        NaT\n",
       "13          Blue Hacks        hackathon 2024-04-27 2024-04-28\n",
       "14       NSTP Live Out         academic 2024-03-23 2024-03-24\n",
       "15         Hack4Health        hackathon 2024-05-15 2024-05-17\n",
       "16           Holy Week     long holiday 2024-03-25 2024-03-31\n",
       "17             Synergy        hackathon 2024-05-08 2024-05-11\n",
       "18      MATH 31.4 LT 1        long test 2024-03-12        NaT\n",
       "19      MATH 31.4 LT 2        long test 2024-04-19        NaT\n",
       "20      MATH 31.4 LT 3        long test 2024-05-14        NaT\n",
       "21      MATH 40.1 LT 1        long test 2024-02-28        NaT\n",
       "22      MATH 40.1 LT 2        long test 2024-04-03        NaT\n",
       "23      MATH 40.1 LT 3        long test 2024-05-02        NaT\n",
       "24      MATH 40.1 LT 4        long test 2024-05-20        NaT\n",
       "25      MATH 61.2 LT 1        long test 2024-02-16        NaT\n",
       "26      MATH 61.2 LT 2        long test 2024-03-21        NaT\n",
       "27      MATH 61.2 LT 3        long test 2024-05-08        NaT"
      ]
     },
     "execution_count": 13,
     "metadata": {},
     "output_type": "execute_result"
    }
   ],
   "source": [
    "events"
   ]
  },
  {
   "cell_type": "markdown",
   "id": "3fabc58e-8bf0-4dc9-b352-052d2062db28",
   "metadata": {},
   "source": [
    "Everything looks good with this dataset. We can move on."
   ]
  },
  {
   "cell_type": "markdown",
   "id": "eb9e8fd0-e0a4-4340-affb-08d82e4cc129",
   "metadata": {},
   "source": [
    "### Steps"
   ]
  },
  {
   "cell_type": "code",
   "execution_count": 35,
   "id": "edf10a0b-0f31-45a1-82d1-f501f49b74e8",
   "metadata": {},
   "outputs": [
    {
     "data": {
      "text/html": [
       "<div>\n",
       "<style scoped>\n",
       "    .dataframe tbody tr th:only-of-type {\n",
       "        vertical-align: middle;\n",
       "    }\n",
       "\n",
       "    .dataframe tbody tr th {\n",
       "        vertical-align: top;\n",
       "    }\n",
       "\n",
       "    .dataframe thead th {\n",
       "        text-align: right;\n",
       "    }\n",
       "</style>\n",
       "<table border=\"1\" class=\"dataframe\">\n",
       "  <thead>\n",
       "    <tr style=\"text-align: right;\">\n",
       "      <th></th>\n",
       "      <th>create_sh_ver</th>\n",
       "      <th>step_count</th>\n",
       "      <th>binning_data</th>\n",
       "      <th>active_time</th>\n",
       "      <th>recommendation</th>\n",
       "      <th>modify_sh_ver</th>\n",
       "      <th>run_step_count</th>\n",
       "      <th>update_time</th>\n",
       "      <th>source_package_name</th>\n",
       "      <th>create_time</th>\n",
       "      <th>...</th>\n",
       "      <th>speed</th>\n",
       "      <th>distance</th>\n",
       "      <th>calorie</th>\n",
       "      <th>walk_step_count</th>\n",
       "      <th>deviceuuid</th>\n",
       "      <th>pkg_name</th>\n",
       "      <th>healthy_step</th>\n",
       "      <th>achievement</th>\n",
       "      <th>datauuid</th>\n",
       "      <th>day_time</th>\n",
       "    </tr>\n",
       "  </thead>\n",
       "  <tbody>\n",
       "    <tr>\n",
       "      <th>0</th>\n",
       "      <td>NaN</td>\n",
       "      <td>9985</td>\n",
       "      <td>e133e7fd-212e-4f0a-9e44-487e4373e2ea.binning_d...</td>\n",
       "      <td>4729744</td>\n",
       "      <td>6000</td>\n",
       "      <td>NaN</td>\n",
       "      <td>475</td>\n",
       "      <td>2023-12-18 17:12:05</td>\n",
       "      <td>com.sec.android.app.shealth</td>\n",
       "      <td>2023-12-18 4:53:19</td>\n",
       "      <td>...</td>\n",
       "      <td>1.674499</td>\n",
       "      <td>7919.9517</td>\n",
       "      <td>324.43960</td>\n",
       "      <td>9510</td>\n",
       "      <td>VfS0qUERdZ</td>\n",
       "      <td>com.sec.android.app.shealth</td>\n",
       "      <td>0</td>\n",
       "      <td>e133e7fd-212e-4f0a-9e44-487e4373e2ea.achieveme...</td>\n",
       "      <td>e133e7fd-212e-4f0a-9e44-487e4373e2ea</td>\n",
       "      <td>1702857600000</td>\n",
       "    </tr>\n",
       "    <tr>\n",
       "      <th>1</th>\n",
       "      <td>NaN</td>\n",
       "      <td>908</td>\n",
       "      <td>c2549c34-43e7-4607-a6d6-3b59e4d2186e.binning_d...</td>\n",
       "      <td>513471</td>\n",
       "      <td>6000</td>\n",
       "      <td>NaN</td>\n",
       "      <td>5</td>\n",
       "      <td>2023-12-18 4:53:19</td>\n",
       "      <td>com.sec.android.app.shealth</td>\n",
       "      <td>2023-12-18 4:53:19</td>\n",
       "      <td>...</td>\n",
       "      <td>1.326753</td>\n",
       "      <td>681.2500</td>\n",
       "      <td>32.42000</td>\n",
       "      <td>903</td>\n",
       "      <td>VfS0qUERdZ</td>\n",
       "      <td>com.sec.android.app.shealth</td>\n",
       "      <td>0</td>\n",
       "      <td>c2549c34-43e7-4607-a6d6-3b59e4d2186e.achieveme...</td>\n",
       "      <td>c2549c34-43e7-4607-a6d6-3b59e4d2186e</td>\n",
       "      <td>1702684800000</td>\n",
       "    </tr>\n",
       "    <tr>\n",
       "      <th>2</th>\n",
       "      <td>NaN</td>\n",
       "      <td>6381</td>\n",
       "      <td>a642decc-d8b4-4799-b5cc-4d7e5b0351d8.binning_d...</td>\n",
       "      <td>3488910</td>\n",
       "      <td>6000</td>\n",
       "      <td>NaN</td>\n",
       "      <td>125</td>\n",
       "      <td>2023-12-18 4:53:19</td>\n",
       "      <td>com.sec.android.app.shealth</td>\n",
       "      <td>2023-12-18 4:53:19</td>\n",
       "      <td>...</td>\n",
       "      <td>1.380428</td>\n",
       "      <td>4816.1904</td>\n",
       "      <td>205.31001</td>\n",
       "      <td>6256</td>\n",
       "      <td>VfS0qUERdZ</td>\n",
       "      <td>com.sec.android.app.shealth</td>\n",
       "      <td>0</td>\n",
       "      <td>a642decc-d8b4-4799-b5cc-4d7e5b0351d8.achieveme...</td>\n",
       "      <td>a642decc-d8b4-4799-b5cc-4d7e5b0351d8</td>\n",
       "      <td>1702771200000</td>\n",
       "    </tr>\n",
       "  </tbody>\n",
       "</table>\n",
       "<p>3 rows × 21 columns</p>\n",
       "</div>"
      ],
      "text/plain": [
       "   create_sh_ver  step_count  \\\n",
       "0            NaN        9985   \n",
       "1            NaN         908   \n",
       "2            NaN        6381   \n",
       "\n",
       "                                        binning_data  active_time  \\\n",
       "0  e133e7fd-212e-4f0a-9e44-487e4373e2ea.binning_d...      4729744   \n",
       "1  c2549c34-43e7-4607-a6d6-3b59e4d2186e.binning_d...       513471   \n",
       "2  a642decc-d8b4-4799-b5cc-4d7e5b0351d8.binning_d...      3488910   \n",
       "\n",
       "   recommendation  modify_sh_ver  run_step_count          update_time  \\\n",
       "0            6000            NaN             475  2023-12-18 17:12:05   \n",
       "1            6000            NaN               5   2023-12-18 4:53:19   \n",
       "2            6000            NaN             125   2023-12-18 4:53:19   \n",
       "\n",
       "           source_package_name         create_time  ...     speed   distance  \\\n",
       "0  com.sec.android.app.shealth  2023-12-18 4:53:19  ...  1.674499  7919.9517   \n",
       "1  com.sec.android.app.shealth  2023-12-18 4:53:19  ...  1.326753   681.2500   \n",
       "2  com.sec.android.app.shealth  2023-12-18 4:53:19  ...  1.380428  4816.1904   \n",
       "\n",
       "     calorie  walk_step_count  deviceuuid                     pkg_name  \\\n",
       "0  324.43960             9510  VfS0qUERdZ  com.sec.android.app.shealth   \n",
       "1   32.42000              903  VfS0qUERdZ  com.sec.android.app.shealth   \n",
       "2  205.31001             6256  VfS0qUERdZ  com.sec.android.app.shealth   \n",
       "\n",
       "  healthy_step                                        achievement  \\\n",
       "0            0  e133e7fd-212e-4f0a-9e44-487e4373e2ea.achieveme...   \n",
       "1            0  c2549c34-43e7-4607-a6d6-3b59e4d2186e.achieveme...   \n",
       "2            0  a642decc-d8b4-4799-b5cc-4d7e5b0351d8.achieveme...   \n",
       "\n",
       "                               datauuid       day_time  \n",
       "0  e133e7fd-212e-4f0a-9e44-487e4373e2ea  1702857600000  \n",
       "1  c2549c34-43e7-4607-a6d6-3b59e4d2186e  1702684800000  \n",
       "2  a642decc-d8b4-4799-b5cc-4d7e5b0351d8  1702771200000  \n",
       "\n",
       "[3 rows x 21 columns]"
      ]
     },
     "execution_count": 35,
     "metadata": {},
     "output_type": "execute_result"
    }
   ],
   "source": [
    "steps.head(3)"
   ]
  },
  {
   "cell_type": "code",
   "execution_count": 34,
   "id": "4e6cdb1f-921d-40b3-ab3f-628929a75876",
   "metadata": {},
   "outputs": [
    {
     "data": {
      "text/plain": [
       "Index(['create_sh_ver', 'step_count', 'binning_data', 'active_time',\n",
       "       'recommendation', 'modify_sh_ver', 'run_step_count', 'update_time',\n",
       "       'source_package_name', 'create_time', 'source_info', 'speed',\n",
       "       'distance', 'calorie', 'walk_step_count', 'deviceuuid', 'pkg_name',\n",
       "       'healthy_step', 'achievement', 'datauuid', 'day_time'],\n",
       "      dtype='object')"
      ]
     },
     "execution_count": 34,
     "metadata": {},
     "output_type": "execute_result"
    }
   ],
   "source": [
    "steps.columns"
   ]
  },
  {
   "cell_type": "code",
   "execution_count": 36,
   "id": "0f0c3147-8b9d-4b20-bd5e-200f363110fc",
   "metadata": {},
   "outputs": [
    {
     "data": {
      "text/plain": [
       "array(['VfS0qUERdZ', 'iGosmEieUd', 'yj7lN7gpxt', 'cYtOYUbVZi',\n",
       "       'gKzgTXX1pl', 'rQMD+kro3I', '0yH08JetXB', 'P0IBIORKg0'],\n",
       "      dtype=object)"
      ]
     },
     "execution_count": 36,
     "metadata": {},
     "output_type": "execute_result"
    }
   ],
   "source": [
    "steps.deviceuuid.unique()"
   ]
  },
  {
   "cell_type": "code",
   "execution_count": 52,
   "id": "ec7f1cd8-d291-42fd-8ece-d9da4c42b053",
   "metadata": {},
   "outputs": [],
   "source": [
    "steps = steps[(steps.deviceuuid == gw6_id2) | (steps.deviceuuid == gw6_id1)].copy()"
   ]
  },
  {
   "cell_type": "code",
   "execution_count": 53,
   "id": "edb1d986-7e1e-41d6-9224-e60f80821adb",
   "metadata": {},
   "outputs": [],
   "source": [
    "# Drop irrelevant columns\n",
    "steps = steps[['update_time','run_step_count', 'walk_step_count','distance','calorie']].copy()"
   ]
  },
  {
   "cell_type": "code",
   "execution_count": 54,
   "id": "8354086e-e161-4ea2-8418-f42fa2ef275b",
   "metadata": {},
   "outputs": [],
   "source": [
    "# Rename columns\n",
    "steps.columns = 'date,run_step,walk_step,distance,calorie'.split(',')"
   ]
  },
  {
   "cell_type": "code",
   "execution_count": 55,
   "id": "dc99e3bc-f1f8-46ca-8d86-83938516f4d1",
   "metadata": {},
   "outputs": [
    {
     "data": {
      "text/plain": [
       "date          object\n",
       "run_step       int64\n",
       "walk_step      int64\n",
       "distance     float64\n",
       "calorie      float64\n",
       "dtype: object"
      ]
     },
     "execution_count": 55,
     "metadata": {},
     "output_type": "execute_result"
    }
   ],
   "source": [
    "steps.dtypes"
   ]
  },
  {
   "cell_type": "code",
   "execution_count": 56,
   "id": "dc907d74-7b1a-425c-99f7-49c990fffbf5",
   "metadata": {},
   "outputs": [],
   "source": [
    "# Fix timestamp\n",
    "steps.date = pd.to_datetime(steps.date).dt.normalize()\n",
    "# Drop irrelevant rows\n",
    "steps = steps[(steps['date'] >= start_date) & (steps['date'] <= end_date)].reset_index(drop=True)"
   ]
  },
  {
   "cell_type": "code",
   "execution_count": 59,
   "id": "cf7beb14-0e44-455d-ab24-b39798f28070",
   "metadata": {},
   "outputs": [
    {
     "data": {
      "text/plain": [
       "(252, 5)"
      ]
     },
     "execution_count": 59,
     "metadata": {},
     "output_type": "execute_result"
    }
   ],
   "source": [
    "steps.shape"
   ]
  },
  {
   "cell_type": "code",
   "execution_count": 62,
   "id": "a00a32d4-624d-417d-8e28-4be9f0a7a85a",
   "metadata": {},
   "outputs": [],
   "source": [
    "steps = steps.groupby(['date']).sum()"
   ]
  },
  {
   "cell_type": "code",
   "execution_count": 65,
   "id": "defb5206-3ff3-446a-a916-fbd484517425",
   "metadata": {},
   "outputs": [
    {
     "data": {
      "text/plain": [
       "(109, 4)"
      ]
     },
     "execution_count": 65,
     "metadata": {},
     "output_type": "execute_result"
    }
   ],
   "source": [
    "steps.shape"
   ]
  },
  {
   "cell_type": "code",
   "execution_count": 92,
   "id": "aff9ffea-4dbf-4239-b7b4-0ffe49dca0a3",
   "metadata": {},
   "outputs": [
    {
     "data": {
      "text/html": [
       "<div>\n",
       "<style scoped>\n",
       "    .dataframe tbody tr th:only-of-type {\n",
       "        vertical-align: middle;\n",
       "    }\n",
       "\n",
       "    .dataframe tbody tr th {\n",
       "        vertical-align: top;\n",
       "    }\n",
       "\n",
       "    .dataframe thead th {\n",
       "        text-align: right;\n",
       "    }\n",
       "</style>\n",
       "<table border=\"1\" class=\"dataframe\">\n",
       "  <thead>\n",
       "    <tr style=\"text-align: right;\">\n",
       "      <th></th>\n",
       "      <th>date</th>\n",
       "      <th>steps</th>\n",
       "      <th>calories</th>\n",
       "      <th>distance</th>\n",
       "    </tr>\n",
       "  </thead>\n",
       "  <tbody>\n",
       "    <tr>\n",
       "      <th>120</th>\n",
       "      <td>2024-05-16</td>\n",
       "      <td>22652</td>\n",
       "      <td>821.198080</td>\n",
       "      <td>18024.728500</td>\n",
       "    </tr>\n",
       "    <tr>\n",
       "      <th>121</th>\n",
       "      <td>2024-05-17</td>\n",
       "      <td>13557</td>\n",
       "      <td>456.380050</td>\n",
       "      <td>10676.571300</td>\n",
       "    </tr>\n",
       "    <tr>\n",
       "      <th>122</th>\n",
       "      <td>2024-05-18</td>\n",
       "      <td>20257</td>\n",
       "      <td>657.939670</td>\n",
       "      <td>15882.253300</td>\n",
       "    </tr>\n",
       "    <tr>\n",
       "      <th>123</th>\n",
       "      <td>2024-05-19</td>\n",
       "      <td>22586</td>\n",
       "      <td>749.019750</td>\n",
       "      <td>17694.563793</td>\n",
       "    </tr>\n",
       "    <tr>\n",
       "      <th>124</th>\n",
       "      <td>2024-05-20</td>\n",
       "      <td>30737</td>\n",
       "      <td>993.369939</td>\n",
       "      <td>23872.081000</td>\n",
       "    </tr>\n",
       "  </tbody>\n",
       "</table>\n",
       "</div>"
      ],
      "text/plain": [
       "          date  steps    calories      distance\n",
       "120 2024-05-16  22652  821.198080  18024.728500\n",
       "121 2024-05-17  13557  456.380050  10676.571300\n",
       "122 2024-05-18  20257  657.939670  15882.253300\n",
       "123 2024-05-19  22586  749.019750  17694.563793\n",
       "124 2024-05-20  30737  993.369939  23872.081000"
      ]
     },
     "execution_count": 92,
     "metadata": {},
     "output_type": "execute_result"
    }
   ],
   "source": [
    "steps.tail()"
   ]
  },
  {
   "cell_type": "code",
   "execution_count": 104,
   "id": "45c75d87-bcd9-4b01-ab58-195da309aaef",
   "metadata": {},
   "outputs": [
    {
     "data": {
      "text/html": [
       "<div>\n",
       "<style scoped>\n",
       "    .dataframe tbody tr th:only-of-type {\n",
       "        vertical-align: middle;\n",
       "    }\n",
       "\n",
       "    .dataframe tbody tr th {\n",
       "        vertical-align: top;\n",
       "    }\n",
       "\n",
       "    .dataframe thead th {\n",
       "        text-align: right;\n",
       "    }\n",
       "</style>\n",
       "<table border=\"1\" class=\"dataframe\">\n",
       "  <thead>\n",
       "    <tr style=\"text-align: right;\">\n",
       "      <th></th>\n",
       "      <th>steps</th>\n",
       "      <th>date</th>\n",
       "      <th>calories</th>\n",
       "      <th>distance</th>\n",
       "    </tr>\n",
       "  </thead>\n",
       "  <tbody>\n",
       "    <tr>\n",
       "      <th>1171</th>\n",
       "      <td>14001</td>\n",
       "      <td>2024-05-20</td>\n",
       "      <td>425.129940</td>\n",
       "      <td>10500.770</td>\n",
       "    </tr>\n",
       "    <tr>\n",
       "      <th>1172</th>\n",
       "      <td>16103</td>\n",
       "      <td>2024-05-20</td>\n",
       "      <td>547.710000</td>\n",
       "      <td>12898.521</td>\n",
       "    </tr>\n",
       "    <tr>\n",
       "      <th>1173</th>\n",
       "      <td>633</td>\n",
       "      <td>2024-05-20</td>\n",
       "      <td>20.529999</td>\n",
       "      <td>472.790</td>\n",
       "    </tr>\n",
       "  </tbody>\n",
       "</table>\n",
       "</div>"
      ],
      "text/plain": [
       "      steps       date    calories   distance\n",
       "1171  14001 2024-05-20  425.129940  10500.770\n",
       "1172  16103 2024-05-20  547.710000  12898.521\n",
       "1173    633 2024-05-20   20.529999    472.790"
      ]
     },
     "execution_count": 104,
     "metadata": {},
     "output_type": "execute_result"
    }
   ],
   "source": [
    "test = steps[steps.date == pd.to_datetime('2024-05-20')]\n",
    "# test.groupby(['date'], as_index=False).mean()\n",
    "test"
   ]
  },
  {
   "cell_type": "markdown",
   "id": "f6a6b594-8b1f-4c47-ada0-5856e453090e",
   "metadata": {},
   "source": [
    "Not the same steps shown in my phone! Must use a different dateset. Perhaps the steps trend"
   ]
  },
  {
   "cell_type": "markdown",
   "id": "28d616da-af08-402c-ab4e-3f35480ca45d",
   "metadata": {},
   "source": [
    "### Merging dataframes"
   ]
  },
  {
   "cell_type": "code",
   "execution_count": 196,
   "id": "363c1656-5027-4352-b2d8-d177c1d6008d",
   "metadata": {},
   "outputs": [],
   "source": [
    "events.rename(columns={'date_start': 'date'}, inplace=True)"
   ]
  },
  {
   "cell_type": "code",
   "execution_count": 197,
   "id": "542da6a6-5b0c-400a-b53e-c3d93701f2bb",
   "metadata": {},
   "outputs": [],
   "source": [
    "df = pd.merge(habits, events, on='date', how='outer')"
   ]
  },
  {
   "cell_type": "code",
   "execution_count": 200,
   "id": "ac886627-a470-4fd1-bfe5-7fde2a70c1fe",
   "metadata": {},
   "outputs": [
    {
     "data": {
      "text/plain": [
       "date                   0\n",
       "toothbrush             9\n",
       "skincare               9\n",
       "mood                   9\n",
       "read                   9\n",
       "touch_type             9\n",
       "exercise              10\n",
       "minutes_meditated      9\n",
       "grateful_for           9\n",
       "poop                   9\n",
       "math_practice         18\n",
       "win                   28\n",
       "infinite_scrolled     28\n",
       "event                102\n",
       "type                 102\n",
       "date_end             125\n",
       "dtype: int64"
      ]
     },
     "execution_count": 200,
     "metadata": {},
     "output_type": "execute_result"
    }
   ],
   "source": [
    "df.isna().sum()"
   ]
  },
  {
   "cell_type": "markdown",
   "id": "c3ca0941-012e-46a0-9f3e-0cdbbe2d75d9",
   "metadata": {},
   "source": [
    "## 🔎 Feature Understanding"
   ]
  },
  {
   "cell_type": "code",
   "execution_count": null,
   "id": "93541f99-7f00-4403-ba7a-745b1558d4f8",
   "metadata": {},
   "outputs": [],
   "source": []
  }
 ],
 "metadata": {
  "kernelspec": {
   "display_name": "Python 3 (ipykernel)",
   "language": "python",
   "name": "python3"
  },
  "language_info": {
   "codemirror_mode": {
    "name": "ipython",
    "version": 3
   },
   "file_extension": ".py",
   "mimetype": "text/x-python",
   "name": "python",
   "nbconvert_exporter": "python",
   "pygments_lexer": "ipython3",
   "version": "3.12.4"
  }
 },
 "nbformat": 4,
 "nbformat_minor": 5
}
