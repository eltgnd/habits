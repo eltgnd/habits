{
 "cells": [
  {
   "cell_type": "markdown",
   "id": "e201c453-8ab0-4210-836e-6a26a4457e52",
   "metadata": {},
   "source": [
    "# An Exploratory Data Analysis on Habits"
   ]
  },
  {
   "cell_type": "markdown",
   "id": "f0b055f2-5616-4c73-9e62-bc526da34bce",
   "metadata": {},
   "source": [
    "### Introduction\n",
    "### Problem Statement\n",
    "### Project Description\n",
    "James Clear, writer of the critically-acclaimed productivity book Atomic Habits, declares that habits are the compound interest of self-improvement. This exploratory data analysis (EDA) focuses on Val's habits during his second semester of sophomore year. The goal is to extract data-driven insights that will be useful for his first semester of junior year. Specifically, the following data are used:\n",
    "- `habits`: Sourced from a Google Form Val made that records daily habits such as number of toothbrushes in a day, minutes meditated, and overall mood.\n",
    "- `exercise`: Sourced from Val's Strava account using the app's API. Strava is an app that lets users record their exercise data.\n",
    "- `steps`: Sourced from Val's Samsung Galaxy Watch 6 through the Samsung Health app.\n",
    "- `sleep`:  Sourced from Val's Samsung Galaxy Watch 6 through the Samsung Health app.\n",
    "- `events`: A table containing significant academic or extracurricular events Val participated in."
   ]
  },
  {
   "cell_type": "markdown",
   "id": "08fe679a-9cea-4c64-8de8-fd337bfebbcc",
   "metadata": {},
   "source": [
    "## Step 0: Imports and Reading Data"
   ]
  },
  {
   "cell_type": "code",
   "execution_count": 3,
   "id": "f1435224-4e76-4a98-bb0a-4805667ba3ec",
   "metadata": {},
   "outputs": [],
   "source": [
    "# Packages\n",
    "import pandas as pd\n",
    "import numpy as np\n",
    "import matplotlib.pyplot as plt\n",
    "import seaborn as sns\n",
    "import plotly\n",
    "import requests"
   ]
  },
  {
   "cell_type": "code",
   "execution_count": 4,
   "id": "19fff3c1-d3b5-41c8-ae1c-ea136be7d395",
   "metadata": {},
   "outputs": [],
   "source": [
    "# Styling and preferences\n",
    "plt.style.use('ggplot')"
   ]
  },
  {
   "cell_type": "code",
   "execution_count": 12,
   "id": "b2021595-98bf-4101-b2f0-2be844531252",
   "metadata": {},
   "outputs": [],
   "source": [
    "# For manually created CSV data\n",
    "habits = pd.read_csv('data/habits.csv')\n",
    "events = pd.read_csv('data/events.csv')"
   ]
  },
  {
   "cell_type": "code",
   "execution_count": 17,
   "id": "b19f4b21-302e-481f-851d-a82d1ccd3d43",
   "metadata": {},
   "outputs": [],
   "source": [
    "# For automated CSV data\n",
    "steps = pd.read_csv('data/steps-converted.csv')\n",
    "sleep = pd.read_csv('data/sleep-converted.csv')\n",
    "exercise = pd.read_csv('data/exercise.csv')"
   ]
  },
  {
   "cell_type": "markdown",
   "id": "dc1a0db6-cc15-4fe0-b658-d0ea12e7f54b",
   "metadata": {
    "jp-MarkdownHeadingCollapsed": true
   },
   "source": [
    "- Downloading my health data was done through the Samsung Health app. The data provided consists of JSON files and a lot of CSV files. I decided to use the `com.samsung.shealth.tracker.pedometer_day_summary.[date of download].csv` for steps and `com.samsung.shealth.sleep.[date of download].csv` for sleep.\n",
    "- Also, using `pd.read_csv` on these files produced a `ParserError` so I first imported them to Google Sheets and removed the first row. After downloading them again as CSV files, they are now imported.\n",
    "- Downloading my Strava exercise data was done through https://entorb.net/strava/. The app allowed me to skip the trouble of having to access Strava's API."
   ]
  }
 ],
 "metadata": {
  "kernelspec": {
   "display_name": "Python 3 (ipykernel)",
   "language": "python",
   "name": "python3"
  },
  "language_info": {
   "codemirror_mode": {
    "name": "ipython",
    "version": 3
   },
   "file_extension": ".py",
   "mimetype": "text/x-python",
   "name": "python",
   "nbconvert_exporter": "python",
   "pygments_lexer": "ipython3",
   "version": "3.12.4"
  }
 },
 "nbformat": 4,
 "nbformat_minor": 5
}
