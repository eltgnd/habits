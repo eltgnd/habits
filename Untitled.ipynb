{
 "cells": [
  {
   "cell_type": "markdown",
   "id": "e201c453-8ab0-4210-836e-6a26a4457e52",
   "metadata": {},
   "source": [
    "# An Exploratory Data Analysis on Val's Habits"
   ]
  },
  {
   "cell_type": "markdown",
   "id": "f0b055f2-5616-4c73-9e62-bc526da34bce",
   "metadata": {},
   "source": [
    "James Clear, writer of the critically-acclaimed productivity book Atomic Habits, declares that habits are the compound interest of self-improvement. This exploratory data analysis (EDA) focuses on Val's habits during his second semester of sophomore year. The goal is to extract data-driven observations and insights that will be useful for his first semester of junior year. Specifically, the following data are used:\n",
    "- Main habits: Sourced from a Google Form Val made that records daily habits such as number of toothbrushes in a day, minutes, meditated, overall mood, among others.\n",
    "- Running data: Sourced from a Val's Strava account using the app's API. Strava is an app that lets users record their exercise data.\n",
    "- Daily steps: Sourced from Val's Samsung Galaxy Watch 6 through the Samsung Health app.\n",
    "- Sleep:  Sourced from Val's Samsung Galaxy Watch 6 through the Samsung Health app.\n",
    "- Screen time: Sourced from Val's mobile phone and tablet's Wellbeing app."
   ]
  },
  {
   "cell_type": "code",
   "execution_count": null,
   "id": "75f931c3-9056-4090-96b9-c6024c0b01fc",
   "metadata": {},
   "outputs": [],
   "source": []
  }
 ],
 "metadata": {
  "kernelspec": {
   "display_name": "Python 3 (ipykernel)",
   "language": "python",
   "name": "python3"
  },
  "language_info": {
   "codemirror_mode": {
    "name": "ipython",
    "version": 3
   },
   "file_extension": ".py",
   "mimetype": "text/x-python",
   "name": "python",
   "nbconvert_exporter": "python",
   "pygments_lexer": "ipython3",
   "version": "3.12.4"
  }
 },
 "nbformat": 4,
 "nbformat_minor": 5
}
